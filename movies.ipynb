{
 "cells": [
  {
   "cell_type": "code",
   "execution_count": 4,
   "id": "b89da385",
   "metadata": {},
   "outputs": [],
   "source": [
    "import pandas as pd\n",
    "import numpy as np"
   ]
  },
  {
   "cell_type": "code",
   "execution_count": 5,
   "id": "2ab44e22",
   "metadata": {},
   "outputs": [],
   "source": [
    "bas_url = \"https://datasets.imdbws.com/title.basics.tsv.gz\""
   ]
  },
  {
   "cell_type": "code",
   "execution_count": 6,
   "id": "be4d6344",
   "metadata": {},
   "outputs": [],
   "source": [
    "aka_url = \"https://datasets.imdbws.com/title.akas.tsv.gz\""
   ]
  },
  {
   "cell_type": "code",
   "execution_count": 7,
   "id": "721bb98c",
   "metadata": {},
   "outputs": [],
   "source": [
    "rat_url = \"https://datasets.imdbws.com/title.ratings.tsv.gz\""
   ]
  },
  {
   "cell_type": "code",
   "execution_count": 8,
   "id": "8684ab5f",
   "metadata": {},
   "outputs": [],
   "source": [
    "bas = pd.read_csv(bas_url, sep='\\t', low_memory=False)"
   ]
  },
  {
   "cell_type": "code",
   "execution_count": 9,
   "id": "d12319ed",
   "metadata": {},
   "outputs": [],
   "source": [
    "aka = pd.read_csv(aka_url, sep='\\t', low_memory=False)"
   ]
  },
  {
   "cell_type": "code",
   "execution_count": 10,
   "id": "0d434743",
   "metadata": {},
   "outputs": [],
   "source": [
    "rat = pd.read_csv(rat_url, sep='\\t', low_memory=False)"
   ]
  },
  {
   "cell_type": "code",
   "execution_count": 11,
   "id": "b8f828c4",
   "metadata": {},
   "outputs": [
    {
     "data": {
      "text/plain": [
       "tconst      titleType     primaryTitle                                   originalTitle                                  isAdult  startYear  endYear  runtimeMinutes  genres                   \n",
       "tt0025509   tvMiniSeries  Les Misérables                                 Les misérables                                 0        1934       1934     279             Drama                        1\n",
       "tt21838520  tvMiniSeries  The British Invasion                           The British Invasion                           0        2010       2010     240             Documentary,History,Music    1\n",
       "tt21811186  tvMiniSeries  Stories of the Mediterranean Forest            Stories of the Mediterranean Forest            0        2017       2017     50              Documentary                  1\n",
       "tt21811888  tvSeries      Indian Predator: The Diary of a Serial Killer  Indian Predator: The Diary of a Serial Killer  0        2022       2022     123             Crime,Documentary,History    1\n",
       "tt2181219   tvSeries      Les hommes de l'ombre                          Les hommes de l'ombre                          0        2012       2016     52              Drama                        1\n",
       "                                                                                                                                                                                                 ..\n",
       "tt1024810   tvSeries      The Boarding School                            El internado                                   0        2007       2010     75              Drama,Mystery,Thriller       1\n",
       "tt1024817   tvSeries      Without Prejudice?                             Without Prejudice?                             0        2007       2007     90              Game-Show,Reality-TV         1\n",
       "tt1024932   tvSeries      City Homicide                                  City Homicide                                  0        2007       2011     60              Crime,Drama,Mystery          1\n",
       "tt10249352  tvSeries      Ultraman Taiga                                 Urutoraman Taiga                               0        2019       2019     25              Action,Adventure,Comedy      1\n",
       "tt9916216   tvSeries      Kalyanam Mudhal Kadhal Varai                   Kalyanam Mudhal Kadhal Varai                   0        2014       2017     22              Romance                      1\n",
       "Length: 46076, dtype: int64"
      ]
     },
     "execution_count": 11,
     "metadata": {},
     "output_type": "execute_result"
    }
   ],
   "source": [
    "bas = bas.replace({'\\\\N':np.nan})\n",
    "bas.value_counts()"
   ]
  },
  {
   "cell_type": "code",
   "execution_count": 12,
   "id": "7249e290",
   "metadata": {},
   "outputs": [],
   "source": [
    "aka = aka.replace({'\\\\N':np.nan})"
   ]
  },
  {
   "cell_type": "code",
   "execution_count": 13,
   "id": "bd14958a",
   "metadata": {},
   "outputs": [],
   "source": [
    "rat = rat.replace({'\\\\N':np.nan})"
   ]
  },
  {
   "cell_type": "code",
   "execution_count": 14,
   "id": "73de0085",
   "metadata": {},
   "outputs": [
    {
     "data": {
      "text/plain": [
       "tconst                  0\n",
       "titleType               0\n",
       "primaryTitle           11\n",
       "originalTitle          11\n",
       "isAdult                 1\n",
       "startYear         1247405\n",
       "endYear           9222490\n",
       "runtimeMinutes    6793573\n",
       "genres             429792\n",
       "dtype: int64"
      ]
     },
     "execution_count": 14,
     "metadata": {},
     "output_type": "execute_result"
    }
   ],
   "source": [
    "bas.isna().sum()"
   ]
  },
  {
   "cell_type": "code",
   "execution_count": 15,
   "id": "b86af9ee",
   "metadata": {},
   "outputs": [],
   "source": [
    "bas.dropna(subset=['runtimeMinutes'], inplace = True)"
   ]
  },
  {
   "cell_type": "code",
   "execution_count": 16,
   "id": "627a03d5",
   "metadata": {},
   "outputs": [
    {
     "data": {
      "text/plain": [
       "tconst                  0\n",
       "titleType               0\n",
       "primaryTitle            1\n",
       "originalTitle           1\n",
       "isAdult                 1\n",
       "startYear           45703\n",
       "endYear           2478972\n",
       "runtimeMinutes          0\n",
       "genres              67996\n",
       "dtype: int64"
      ]
     },
     "execution_count": 16,
     "metadata": {},
     "output_type": "execute_result"
    }
   ],
   "source": [
    "bas.isna().sum()"
   ]
  },
  {
   "cell_type": "code",
   "execution_count": 17,
   "id": "7c62657b",
   "metadata": {},
   "outputs": [],
   "source": [
    "bas.dropna(subset=['genres'], inplace = True)"
   ]
  },
  {
   "cell_type": "code",
   "execution_count": 18,
   "id": "07726846",
   "metadata": {},
   "outputs": [
    {
     "data": {
      "text/plain": [
       "tconst                  0\n",
       "titleType               0\n",
       "primaryTitle            1\n",
       "originalTitle           1\n",
       "isAdult                 0\n",
       "startYear           44363\n",
       "endYear           2412541\n",
       "runtimeMinutes          0\n",
       "genres                  0\n",
       "dtype: int64"
      ]
     },
     "execution_count": 18,
     "metadata": {},
     "output_type": "execute_result"
    }
   ],
   "source": [
    "bas.isna().sum()"
   ]
  },
  {
   "cell_type": "code",
   "execution_count": 19,
   "id": "0796f05f",
   "metadata": {},
   "outputs": [
    {
     "data": {
      "text/plain": [
       "0"
      ]
     },
     "execution_count": 19,
     "metadata": {},
     "output_type": "execute_result"
    }
   ],
   "source": [
    "bas.duplicated().sum()"
   ]
  },
  {
   "cell_type": "code",
   "execution_count": 20,
   "id": "dd72c7f5",
   "metadata": {},
   "outputs": [
    {
     "data": {
      "text/plain": [
       "tvEpisode       1112187\n",
       "short            580518\n",
       "movie            370525\n",
       "video            176191\n",
       "tvMovie           88804\n",
       "tvSeries          87462\n",
       "tvSpecial         16857\n",
       "tvMiniSeries      16327\n",
       "tvShort            9438\n",
       "videoGame           308\n",
       "Name: titleType, dtype: int64"
      ]
     },
     "execution_count": 20,
     "metadata": {},
     "output_type": "execute_result"
    }
   ],
   "source": [
    "bas['titleType'].value_counts()"
   ]
  },
  {
   "cell_type": "code",
   "execution_count": 21,
   "id": "6ce9db40",
   "metadata": {},
   "outputs": [
    {
     "data": {
      "text/html": [
       "<div>\n",
       "<style scoped>\n",
       "    .dataframe tbody tr th:only-of-type {\n",
       "        vertical-align: middle;\n",
       "    }\n",
       "\n",
       "    .dataframe tbody tr th {\n",
       "        vertical-align: top;\n",
       "    }\n",
       "\n",
       "    .dataframe thead th {\n",
       "        text-align: right;\n",
       "    }\n",
       "</style>\n",
       "<table border=\"1\" class=\"dataframe\">\n",
       "  <thead>\n",
       "    <tr style=\"text-align: right;\">\n",
       "      <th></th>\n",
       "      <th>tconst</th>\n",
       "      <th>titleType</th>\n",
       "      <th>primaryTitle</th>\n",
       "      <th>originalTitle</th>\n",
       "      <th>isAdult</th>\n",
       "      <th>startYear</th>\n",
       "      <th>endYear</th>\n",
       "      <th>runtimeMinutes</th>\n",
       "      <th>genres</th>\n",
       "    </tr>\n",
       "  </thead>\n",
       "  <tbody>\n",
       "    <tr>\n",
       "      <th>8</th>\n",
       "      <td>tt0000009</td>\n",
       "      <td>movie</td>\n",
       "      <td>Miss Jerry</td>\n",
       "      <td>Miss Jerry</td>\n",
       "      <td>0</td>\n",
       "      <td>1894</td>\n",
       "      <td>NaN</td>\n",
       "      <td>45</td>\n",
       "      <td>Romance</td>\n",
       "    </tr>\n",
       "    <tr>\n",
       "      <th>570</th>\n",
       "      <td>tt0000574</td>\n",
       "      <td>movie</td>\n",
       "      <td>The Story of the Kelly Gang</td>\n",
       "      <td>The Story of the Kelly Gang</td>\n",
       "      <td>0</td>\n",
       "      <td>1906</td>\n",
       "      <td>NaN</td>\n",
       "      <td>70</td>\n",
       "      <td>Action,Adventure,Biography</td>\n",
       "    </tr>\n",
       "    <tr>\n",
       "      <th>587</th>\n",
       "      <td>tt0000591</td>\n",
       "      <td>movie</td>\n",
       "      <td>The Prodigal Son</td>\n",
       "      <td>L'enfant prodigue</td>\n",
       "      <td>0</td>\n",
       "      <td>1907</td>\n",
       "      <td>NaN</td>\n",
       "      <td>90</td>\n",
       "      <td>Drama</td>\n",
       "    </tr>\n",
       "    <tr>\n",
       "      <th>672</th>\n",
       "      <td>tt0000679</td>\n",
       "      <td>movie</td>\n",
       "      <td>The Fairylogue and Radio-Plays</td>\n",
       "      <td>The Fairylogue and Radio-Plays</td>\n",
       "      <td>0</td>\n",
       "      <td>1908</td>\n",
       "      <td>NaN</td>\n",
       "      <td>120</td>\n",
       "      <td>Adventure,Fantasy</td>\n",
       "    </tr>\n",
       "    <tr>\n",
       "      <th>1172</th>\n",
       "      <td>tt0001184</td>\n",
       "      <td>movie</td>\n",
       "      <td>Don Juan de Serrallonga</td>\n",
       "      <td>Don Juan de Serrallonga</td>\n",
       "      <td>0</td>\n",
       "      <td>1910</td>\n",
       "      <td>NaN</td>\n",
       "      <td>58</td>\n",
       "      <td>Adventure,Drama</td>\n",
       "    </tr>\n",
       "    <tr>\n",
       "      <th>...</th>\n",
       "      <td>...</td>\n",
       "      <td>...</td>\n",
       "      <td>...</td>\n",
       "      <td>...</td>\n",
       "      <td>...</td>\n",
       "      <td>...</td>\n",
       "      <td>...</td>\n",
       "      <td>...</td>\n",
       "      <td>...</td>\n",
       "    </tr>\n",
       "    <tr>\n",
       "      <th>9319951</th>\n",
       "      <td>tt9916362</td>\n",
       "      <td>movie</td>\n",
       "      <td>Coven</td>\n",
       "      <td>Akelarre</td>\n",
       "      <td>0</td>\n",
       "      <td>2020</td>\n",
       "      <td>NaN</td>\n",
       "      <td>92</td>\n",
       "      <td>Drama,History</td>\n",
       "    </tr>\n",
       "    <tr>\n",
       "      <th>9320035</th>\n",
       "      <td>tt9916538</td>\n",
       "      <td>movie</td>\n",
       "      <td>Kuambil Lagi Hatiku</td>\n",
       "      <td>Kuambil Lagi Hatiku</td>\n",
       "      <td>0</td>\n",
       "      <td>2019</td>\n",
       "      <td>NaN</td>\n",
       "      <td>123</td>\n",
       "      <td>Drama</td>\n",
       "    </tr>\n",
       "    <tr>\n",
       "      <th>9320076</th>\n",
       "      <td>tt9916622</td>\n",
       "      <td>movie</td>\n",
       "      <td>Rodolpho Teóphilo - O Legado de um Pioneiro</td>\n",
       "      <td>Rodolpho Teóphilo - O Legado de um Pioneiro</td>\n",
       "      <td>0</td>\n",
       "      <td>2015</td>\n",
       "      <td>NaN</td>\n",
       "      <td>57</td>\n",
       "      <td>Documentary</td>\n",
       "    </tr>\n",
       "    <tr>\n",
       "      <th>9320103</th>\n",
       "      <td>tt9916680</td>\n",
       "      <td>movie</td>\n",
       "      <td>De la ilusión al desconcierto: cine colombiano...</td>\n",
       "      <td>De la ilusión al desconcierto: cine colombiano...</td>\n",
       "      <td>0</td>\n",
       "      <td>2007</td>\n",
       "      <td>NaN</td>\n",
       "      <td>100</td>\n",
       "      <td>Documentary</td>\n",
       "    </tr>\n",
       "    <tr>\n",
       "      <th>9320136</th>\n",
       "      <td>tt9916754</td>\n",
       "      <td>movie</td>\n",
       "      <td>Chico Albuquerque - Revelações</td>\n",
       "      <td>Chico Albuquerque - Revelações</td>\n",
       "      <td>0</td>\n",
       "      <td>2013</td>\n",
       "      <td>NaN</td>\n",
       "      <td>49</td>\n",
       "      <td>Documentary</td>\n",
       "    </tr>\n",
       "  </tbody>\n",
       "</table>\n",
       "<p>370525 rows × 9 columns</p>\n",
       "</div>"
      ],
      "text/plain": [
       "            tconst titleType  \\\n",
       "8        tt0000009     movie   \n",
       "570      tt0000574     movie   \n",
       "587      tt0000591     movie   \n",
       "672      tt0000679     movie   \n",
       "1172     tt0001184     movie   \n",
       "...            ...       ...   \n",
       "9319951  tt9916362     movie   \n",
       "9320035  tt9916538     movie   \n",
       "9320076  tt9916622     movie   \n",
       "9320103  tt9916680     movie   \n",
       "9320136  tt9916754     movie   \n",
       "\n",
       "                                              primaryTitle  \\\n",
       "8                                               Miss Jerry   \n",
       "570                            The Story of the Kelly Gang   \n",
       "587                                       The Prodigal Son   \n",
       "672                         The Fairylogue and Radio-Plays   \n",
       "1172                               Don Juan de Serrallonga   \n",
       "...                                                    ...   \n",
       "9319951                                              Coven   \n",
       "9320035                                Kuambil Lagi Hatiku   \n",
       "9320076        Rodolpho Teóphilo - O Legado de um Pioneiro   \n",
       "9320103  De la ilusión al desconcierto: cine colombiano...   \n",
       "9320136                     Chico Albuquerque - Revelações   \n",
       "\n",
       "                                             originalTitle isAdult startYear  \\\n",
       "8                                               Miss Jerry       0      1894   \n",
       "570                            The Story of the Kelly Gang       0      1906   \n",
       "587                                      L'enfant prodigue       0      1907   \n",
       "672                         The Fairylogue and Radio-Plays       0      1908   \n",
       "1172                               Don Juan de Serrallonga       0      1910   \n",
       "...                                                    ...     ...       ...   \n",
       "9319951                                           Akelarre       0      2020   \n",
       "9320035                                Kuambil Lagi Hatiku       0      2019   \n",
       "9320076        Rodolpho Teóphilo - O Legado de um Pioneiro       0      2015   \n",
       "9320103  De la ilusión al desconcierto: cine colombiano...       0      2007   \n",
       "9320136                     Chico Albuquerque - Revelações       0      2013   \n",
       "\n",
       "        endYear runtimeMinutes                      genres  \n",
       "8           NaN             45                     Romance  \n",
       "570         NaN             70  Action,Adventure,Biography  \n",
       "587         NaN             90                       Drama  \n",
       "672         NaN            120           Adventure,Fantasy  \n",
       "1172        NaN             58             Adventure,Drama  \n",
       "...         ...            ...                         ...  \n",
       "9319951     NaN             92               Drama,History  \n",
       "9320035     NaN            123                       Drama  \n",
       "9320076     NaN             57                 Documentary  \n",
       "9320103     NaN            100                 Documentary  \n",
       "9320136     NaN             49                 Documentary  \n",
       "\n",
       "[370525 rows x 9 columns]"
      ]
     },
     "execution_count": 21,
     "metadata": {},
     "output_type": "execute_result"
    }
   ],
   "source": [
    "bas[bas['titleType'].str.contains\n",
    "    ('tvEpisode|short|video|tvMovie|tvSeries|tvSpecial|tvMiniSeries|tvShort|videoGame')\n",
    "    ==False]"
   ]
  },
  {
   "cell_type": "code",
   "execution_count": 22,
   "id": "8709b442",
   "metadata": {},
   "outputs": [],
   "source": [
    "bas = bas[bas['titleType'].str.contains\n",
    "    ('tvEpisode|short|video|tvMovie|tvSeries|tvSpecial|tvMiniSeries|tvShort|videoGame')\n",
    "    ==False]"
   ]
  },
  {
   "cell_type": "code",
   "execution_count": 23,
   "id": "7714fa4d",
   "metadata": {},
   "outputs": [
    {
     "name": "stdout",
     "output_type": "stream",
     "text": [
      "<class 'pandas.core.frame.DataFrame'>\n",
      "Int64Index: 370525 entries, 8 to 9320136\n",
      "Data columns (total 9 columns):\n",
      " #   Column          Non-Null Count   Dtype \n",
      "---  ------          --------------   ----- \n",
      " 0   tconst          370525 non-null  object\n",
      " 1   titleType       370525 non-null  object\n",
      " 2   primaryTitle    370525 non-null  object\n",
      " 3   originalTitle   370525 non-null  object\n",
      " 4   isAdult         370525 non-null  object\n",
      " 5   startYear       364601 non-null  object\n",
      " 6   endYear         0 non-null       object\n",
      " 7   runtimeMinutes  370525 non-null  object\n",
      " 8   genres          370525 non-null  object\n",
      "dtypes: object(9)\n",
      "memory usage: 28.3+ MB\n"
     ]
    }
   ],
   "source": [
    "bas.info()"
   ]
  },
  {
   "cell_type": "code",
   "execution_count": 24,
   "id": "6ba49c4b",
   "metadata": {},
   "outputs": [
    {
     "data": {
      "text/plain": [
       "2017    14235\n",
       "2018    14175\n",
       "2016    13848\n",
       "2019    13837\n",
       "2015    13354\n",
       "        ...  \n",
       "1896        1\n",
       "1894        1\n",
       "1899        1\n",
       "1904        1\n",
       "2026        1\n",
       "Name: startYear, Length: 128, dtype: int64"
      ]
     },
     "execution_count": 24,
     "metadata": {},
     "output_type": "execute_result"
    }
   ],
   "source": [
    "bas['startYear'].value_counts()"
   ]
  },
  {
   "cell_type": "code",
   "execution_count": 25,
   "id": "c4f898ee",
   "metadata": {},
   "outputs": [],
   "source": [
    "bas.dropna(subset=['startYear'], inplace = True)"
   ]
  },
  {
   "cell_type": "code",
   "execution_count": 26,
   "id": "7c31d0ba",
   "metadata": {},
   "outputs": [],
   "source": [
    "bas['startYear'] = bas['startYear'].astype(int)"
   ]
  },
  {
   "cell_type": "code",
   "execution_count": 27,
   "id": "8222dbf3",
   "metadata": {},
   "outputs": [],
   "source": [
    "bas = bas[bas['startYear'] >= 2000]"
   ]
  },
  {
   "cell_type": "code",
   "execution_count": 28,
   "id": "1e386dea",
   "metadata": {},
   "outputs": [],
   "source": [
    "bas = bas[bas['startYear'] <= 2022]"
   ]
  },
  {
   "cell_type": "code",
   "execution_count": 29,
   "id": "70a2f318",
   "metadata": {},
   "outputs": [
    {
     "data": {
      "text/plain": [
       "2017    14235\n",
       "2018    14175\n",
       "2016    13848\n",
       "2019    13837\n",
       "2015    13354\n",
       "2014    12999\n",
       "2013    12297\n",
       "2021    11848\n",
       "2012    11548\n",
       "2020    11300\n",
       "2011    10699\n",
       "2010    10136\n",
       "2022     9922\n",
       "2009     9290\n",
       "2008     8089\n",
       "2007     6897\n",
       "2006     6438\n",
       "2005     5774\n",
       "2004     5144\n",
       "2003     4539\n",
       "2002     4094\n",
       "2001     3821\n",
       "2000     3599\n",
       "Name: startYear, dtype: int64"
      ]
     },
     "execution_count": 29,
     "metadata": {},
     "output_type": "execute_result"
    }
   ],
   "source": [
    "bas['startYear'].value_counts()"
   ]
  },
  {
   "cell_type": "code",
   "execution_count": 30,
   "id": "b2f90c0d",
   "metadata": {},
   "outputs": [],
   "source": [
    "bas['startYear'] = bas['startYear'].astype(object)"
   ]
  },
  {
   "cell_type": "code",
   "execution_count": 31,
   "id": "10111a33",
   "metadata": {},
   "outputs": [
    {
     "name": "stdout",
     "output_type": "stream",
     "text": [
      "<class 'pandas.core.frame.DataFrame'>\n",
      "Int64Index: 217883 entries, 13079 to 9320136\n",
      "Data columns (total 9 columns):\n",
      " #   Column          Non-Null Count   Dtype \n",
      "---  ------          --------------   ----- \n",
      " 0   tconst          217883 non-null  object\n",
      " 1   titleType       217883 non-null  object\n",
      " 2   primaryTitle    217883 non-null  object\n",
      " 3   originalTitle   217883 non-null  object\n",
      " 4   isAdult         217883 non-null  object\n",
      " 5   startYear       217883 non-null  object\n",
      " 6   endYear         0 non-null       object\n",
      " 7   runtimeMinutes  217883 non-null  object\n",
      " 8   genres          217883 non-null  object\n",
      "dtypes: object(9)\n",
      "memory usage: 16.6+ MB\n"
     ]
    }
   ],
   "source": [
    "bas.info()"
   ]
  },
  {
   "cell_type": "code",
   "execution_count": 32,
   "id": "c7aea6ff",
   "metadata": {},
   "outputs": [],
   "source": [
    "is_documentary = bas['genres'].str.contains('documentary',case=False)"
   ]
  },
  {
   "cell_type": "code",
   "execution_count": 33,
   "id": "4adf25e3",
   "metadata": {},
   "outputs": [],
   "source": [
    "bas = bas[~is_documentary]"
   ]
  },
  {
   "cell_type": "code",
   "execution_count": 34,
   "id": "7e44d0b2",
   "metadata": {},
   "outputs": [
    {
     "name": "stdout",
     "output_type": "stream",
     "text": [
      "<class 'pandas.core.frame.DataFrame'>\n",
      "RangeIndex: 33607135 entries, 0 to 33607134\n",
      "Data columns (total 8 columns):\n",
      " #   Column           Dtype \n",
      "---  ------           ----- \n",
      " 0   titleId          object\n",
      " 1   ordering         int64 \n",
      " 2   title            object\n",
      " 3   region           object\n",
      " 4   language         object\n",
      " 5   types            object\n",
      " 6   attributes       object\n",
      " 7   isOriginalTitle  object\n",
      "dtypes: int64(1), object(7)\n",
      "memory usage: 2.0+ GB\n"
     ]
    }
   ],
   "source": [
    "aka.info()"
   ]
  },
  {
   "cell_type": "code",
   "execution_count": 35,
   "id": "d541bc3f",
   "metadata": {},
   "outputs": [
    {
     "data": {
      "text/html": [
       "<div>\n",
       "<style scoped>\n",
       "    .dataframe tbody tr th:only-of-type {\n",
       "        vertical-align: middle;\n",
       "    }\n",
       "\n",
       "    .dataframe tbody tr th {\n",
       "        vertical-align: top;\n",
       "    }\n",
       "\n",
       "    .dataframe thead th {\n",
       "        text-align: right;\n",
       "    }\n",
       "</style>\n",
       "<table border=\"1\" class=\"dataframe\">\n",
       "  <thead>\n",
       "    <tr style=\"text-align: right;\">\n",
       "      <th></th>\n",
       "      <th>titleId</th>\n",
       "      <th>ordering</th>\n",
       "      <th>title</th>\n",
       "      <th>region</th>\n",
       "      <th>language</th>\n",
       "      <th>types</th>\n",
       "      <th>attributes</th>\n",
       "      <th>isOriginalTitle</th>\n",
       "    </tr>\n",
       "  </thead>\n",
       "  <tbody>\n",
       "    <tr>\n",
       "      <th>0</th>\n",
       "      <td>tt0000001</td>\n",
       "      <td>1</td>\n",
       "      <td>Карменсіта</td>\n",
       "      <td>UA</td>\n",
       "      <td>NaN</td>\n",
       "      <td>imdbDisplay</td>\n",
       "      <td>NaN</td>\n",
       "      <td>0</td>\n",
       "    </tr>\n",
       "    <tr>\n",
       "      <th>1</th>\n",
       "      <td>tt0000001</td>\n",
       "      <td>2</td>\n",
       "      <td>Carmencita</td>\n",
       "      <td>DE</td>\n",
       "      <td>NaN</td>\n",
       "      <td>NaN</td>\n",
       "      <td>literal title</td>\n",
       "      <td>0</td>\n",
       "    </tr>\n",
       "    <tr>\n",
       "      <th>2</th>\n",
       "      <td>tt0000001</td>\n",
       "      <td>3</td>\n",
       "      <td>Carmencita - spanyol tánc</td>\n",
       "      <td>HU</td>\n",
       "      <td>NaN</td>\n",
       "      <td>imdbDisplay</td>\n",
       "      <td>NaN</td>\n",
       "      <td>0</td>\n",
       "    </tr>\n",
       "    <tr>\n",
       "      <th>3</th>\n",
       "      <td>tt0000001</td>\n",
       "      <td>4</td>\n",
       "      <td>Καρμενσίτα</td>\n",
       "      <td>GR</td>\n",
       "      <td>NaN</td>\n",
       "      <td>imdbDisplay</td>\n",
       "      <td>NaN</td>\n",
       "      <td>0</td>\n",
       "    </tr>\n",
       "    <tr>\n",
       "      <th>4</th>\n",
       "      <td>tt0000001</td>\n",
       "      <td>5</td>\n",
       "      <td>Карменсита</td>\n",
       "      <td>RU</td>\n",
       "      <td>NaN</td>\n",
       "      <td>imdbDisplay</td>\n",
       "      <td>NaN</td>\n",
       "      <td>0</td>\n",
       "    </tr>\n",
       "  </tbody>\n",
       "</table>\n",
       "</div>"
      ],
      "text/plain": [
       "     titleId  ordering                      title region language  \\\n",
       "0  tt0000001         1                 Карменсіта     UA      NaN   \n",
       "1  tt0000001         2                 Carmencita     DE      NaN   \n",
       "2  tt0000001         3  Carmencita - spanyol tánc     HU      NaN   \n",
       "3  tt0000001         4                 Καρμενσίτα     GR      NaN   \n",
       "4  tt0000001         5                 Карменсита     RU      NaN   \n",
       "\n",
       "         types     attributes isOriginalTitle  \n",
       "0  imdbDisplay            NaN               0  \n",
       "1          NaN  literal title               0  \n",
       "2  imdbDisplay            NaN               0  \n",
       "3  imdbDisplay            NaN               0  \n",
       "4  imdbDisplay            NaN               0  "
      ]
     },
     "execution_count": 35,
     "metadata": {},
     "output_type": "execute_result"
    }
   ],
   "source": [
    "aka.head()"
   ]
  },
  {
   "cell_type": "code",
   "execution_count": 36,
   "id": "c1373cf8",
   "metadata": {},
   "outputs": [
    {
     "data": {
      "text/plain": [
       "0"
      ]
     },
     "execution_count": 36,
     "metadata": {},
     "output_type": "execute_result"
    }
   ],
   "source": [
    "aka.duplicated().sum()"
   ]
  },
  {
   "cell_type": "code",
   "execution_count": 37,
   "id": "32b337b0",
   "metadata": {},
   "outputs": [
    {
     "data": {
      "text/plain": [
       "titleId                   0\n",
       "ordering                  0\n",
       "title                     5\n",
       "region              1866767\n",
       "language            6323621\n",
       "types              28274120\n",
       "attributes         33358307\n",
       "isOriginalTitle        2187\n",
       "dtype: int64"
      ]
     },
     "execution_count": 37,
     "metadata": {},
     "output_type": "execute_result"
    }
   ],
   "source": [
    "aka.isna().sum()"
   ]
  },
  {
   "cell_type": "code",
   "execution_count": 38,
   "id": "655fca01",
   "metadata": {},
   "outputs": [
    {
     "data": {
      "text/plain": [
       "JP    4011891\n",
       "FR    4010779\n",
       "DE    4007481\n",
       "IN    3942428\n",
       "ES    3933815\n",
       "       ...   \n",
       "CC          1\n",
       "TV          1\n",
       "NU          1\n",
       "PW          1\n",
       "NR          1\n",
       "Name: region, Length: 247, dtype: int64"
      ]
     },
     "execution_count": 38,
     "metadata": {},
     "output_type": "execute_result"
    }
   ],
   "source": [
    "aka['region'].value_counts()"
   ]
  },
  {
   "cell_type": "code",
   "execution_count": 39,
   "id": "054b34a2",
   "metadata": {},
   "outputs": [
    {
     "data": {
      "text/html": [
       "<div>\n",
       "<style scoped>\n",
       "    .dataframe tbody tr th:only-of-type {\n",
       "        vertical-align: middle;\n",
       "    }\n",
       "\n",
       "    .dataframe tbody tr th {\n",
       "        vertical-align: top;\n",
       "    }\n",
       "\n",
       "    .dataframe thead th {\n",
       "        text-align: right;\n",
       "    }\n",
       "</style>\n",
       "<table border=\"1\" class=\"dataframe\">\n",
       "  <thead>\n",
       "    <tr style=\"text-align: right;\">\n",
       "      <th></th>\n",
       "      <th>titleId</th>\n",
       "      <th>ordering</th>\n",
       "      <th>title</th>\n",
       "      <th>region</th>\n",
       "      <th>language</th>\n",
       "      <th>types</th>\n",
       "      <th>attributes</th>\n",
       "      <th>isOriginalTitle</th>\n",
       "    </tr>\n",
       "  </thead>\n",
       "  <tbody>\n",
       "    <tr>\n",
       "      <th>5</th>\n",
       "      <td>tt0000001</td>\n",
       "      <td>6</td>\n",
       "      <td>Carmencita</td>\n",
       "      <td>US</td>\n",
       "      <td>NaN</td>\n",
       "      <td>imdbDisplay</td>\n",
       "      <td>NaN</td>\n",
       "      <td>0</td>\n",
       "    </tr>\n",
       "    <tr>\n",
       "      <th>14</th>\n",
       "      <td>tt0000002</td>\n",
       "      <td>7</td>\n",
       "      <td>The Clown and His Dogs</td>\n",
       "      <td>US</td>\n",
       "      <td>NaN</td>\n",
       "      <td>NaN</td>\n",
       "      <td>literal English title</td>\n",
       "      <td>0</td>\n",
       "    </tr>\n",
       "    <tr>\n",
       "      <th>33</th>\n",
       "      <td>tt0000005</td>\n",
       "      <td>10</td>\n",
       "      <td>Blacksmith Scene</td>\n",
       "      <td>US</td>\n",
       "      <td>NaN</td>\n",
       "      <td>imdbDisplay</td>\n",
       "      <td>NaN</td>\n",
       "      <td>0</td>\n",
       "    </tr>\n",
       "    <tr>\n",
       "      <th>36</th>\n",
       "      <td>tt0000005</td>\n",
       "      <td>1</td>\n",
       "      <td>Blacksmithing Scene</td>\n",
       "      <td>US</td>\n",
       "      <td>NaN</td>\n",
       "      <td>alternative</td>\n",
       "      <td>NaN</td>\n",
       "      <td>0</td>\n",
       "    </tr>\n",
       "    <tr>\n",
       "      <th>41</th>\n",
       "      <td>tt0000005</td>\n",
       "      <td>6</td>\n",
       "      <td>Blacksmith Scene #1</td>\n",
       "      <td>US</td>\n",
       "      <td>NaN</td>\n",
       "      <td>alternative</td>\n",
       "      <td>NaN</td>\n",
       "      <td>0</td>\n",
       "    </tr>\n",
       "    <tr>\n",
       "      <th>...</th>\n",
       "      <td>...</td>\n",
       "      <td>...</td>\n",
       "      <td>...</td>\n",
       "      <td>...</td>\n",
       "      <td>...</td>\n",
       "      <td>...</td>\n",
       "      <td>...</td>\n",
       "      <td>...</td>\n",
       "    </tr>\n",
       "    <tr>\n",
       "      <th>33606807</th>\n",
       "      <td>tt9916702</td>\n",
       "      <td>1</td>\n",
       "      <td>Loving London: The Playground</td>\n",
       "      <td>US</td>\n",
       "      <td>NaN</td>\n",
       "      <td>NaN</td>\n",
       "      <td>NaN</td>\n",
       "      <td>0</td>\n",
       "    </tr>\n",
       "    <tr>\n",
       "      <th>33606844</th>\n",
       "      <td>tt9916720</td>\n",
       "      <td>10</td>\n",
       "      <td>The Demonic Nun</td>\n",
       "      <td>US</td>\n",
       "      <td>NaN</td>\n",
       "      <td>tv</td>\n",
       "      <td>NaN</td>\n",
       "      <td>0</td>\n",
       "    </tr>\n",
       "    <tr>\n",
       "      <th>33606846</th>\n",
       "      <td>tt9916720</td>\n",
       "      <td>12</td>\n",
       "      <td>The Nun 2</td>\n",
       "      <td>US</td>\n",
       "      <td>NaN</td>\n",
       "      <td>imdbDisplay</td>\n",
       "      <td>NaN</td>\n",
       "      <td>0</td>\n",
       "    </tr>\n",
       "    <tr>\n",
       "      <th>33606863</th>\n",
       "      <td>tt9916756</td>\n",
       "      <td>1</td>\n",
       "      <td>Pretty Pretty Black Girl</td>\n",
       "      <td>US</td>\n",
       "      <td>NaN</td>\n",
       "      <td>imdbDisplay</td>\n",
       "      <td>NaN</td>\n",
       "      <td>0</td>\n",
       "    </tr>\n",
       "    <tr>\n",
       "      <th>33606879</th>\n",
       "      <td>tt9916764</td>\n",
       "      <td>1</td>\n",
       "      <td>38</td>\n",
       "      <td>US</td>\n",
       "      <td>NaN</td>\n",
       "      <td>imdbDisplay</td>\n",
       "      <td>NaN</td>\n",
       "      <td>0</td>\n",
       "    </tr>\n",
       "  </tbody>\n",
       "</table>\n",
       "<p>1362031 rows × 8 columns</p>\n",
       "</div>"
      ],
      "text/plain": [
       "            titleId  ordering                          title region language  \\\n",
       "5         tt0000001         6                     Carmencita     US      NaN   \n",
       "14        tt0000002         7         The Clown and His Dogs     US      NaN   \n",
       "33        tt0000005        10               Blacksmith Scene     US      NaN   \n",
       "36        tt0000005         1            Blacksmithing Scene     US      NaN   \n",
       "41        tt0000005         6            Blacksmith Scene #1     US      NaN   \n",
       "...             ...       ...                            ...    ...      ...   \n",
       "33606807  tt9916702         1  Loving London: The Playground     US      NaN   \n",
       "33606844  tt9916720        10                The Demonic Nun     US      NaN   \n",
       "33606846  tt9916720        12                      The Nun 2     US      NaN   \n",
       "33606863  tt9916756         1       Pretty Pretty Black Girl     US      NaN   \n",
       "33606879  tt9916764         1                             38     US      NaN   \n",
       "\n",
       "                types             attributes isOriginalTitle  \n",
       "5         imdbDisplay                    NaN               0  \n",
       "14                NaN  literal English title               0  \n",
       "33        imdbDisplay                    NaN               0  \n",
       "36        alternative                    NaN               0  \n",
       "41        alternative                    NaN               0  \n",
       "...               ...                    ...             ...  \n",
       "33606807          NaN                    NaN               0  \n",
       "33606844           tv                    NaN               0  \n",
       "33606846  imdbDisplay                    NaN               0  \n",
       "33606863  imdbDisplay                    NaN               0  \n",
       "33606879  imdbDisplay                    NaN               0  \n",
       "\n",
       "[1362031 rows x 8 columns]"
      ]
     },
     "execution_count": 39,
     "metadata": {},
     "output_type": "execute_result"
    }
   ],
   "source": [
    "aka[aka['region'].str.contains('US') == True]"
   ]
  },
  {
   "cell_type": "code",
   "execution_count": 40,
   "id": "07fe6a90",
   "metadata": {},
   "outputs": [],
   "source": [
    "aka = aka[aka['region'].str.contains('US') == True]"
   ]
  },
  {
   "cell_type": "code",
   "execution_count": 41,
   "id": "46b3a6db",
   "metadata": {},
   "outputs": [
    {
     "data": {
      "text/plain": [
       "US    1362031\n",
       "Name: region, dtype: int64"
      ]
     },
     "execution_count": 41,
     "metadata": {},
     "output_type": "execute_result"
    }
   ],
   "source": [
    "aka['region'].value_counts()"
   ]
  },
  {
   "cell_type": "code",
   "execution_count": 42,
   "id": "e14030a0",
   "metadata": {},
   "outputs": [
    {
     "data": {
      "text/html": [
       "<div>\n",
       "<style scoped>\n",
       "    .dataframe tbody tr th:only-of-type {\n",
       "        vertical-align: middle;\n",
       "    }\n",
       "\n",
       "    .dataframe tbody tr th {\n",
       "        vertical-align: top;\n",
       "    }\n",
       "\n",
       "    .dataframe thead th {\n",
       "        text-align: right;\n",
       "    }\n",
       "</style>\n",
       "<table border=\"1\" class=\"dataframe\">\n",
       "  <thead>\n",
       "    <tr style=\"text-align: right;\">\n",
       "      <th></th>\n",
       "      <th>titleId</th>\n",
       "      <th>ordering</th>\n",
       "      <th>title</th>\n",
       "      <th>region</th>\n",
       "      <th>language</th>\n",
       "      <th>types</th>\n",
       "      <th>attributes</th>\n",
       "      <th>isOriginalTitle</th>\n",
       "    </tr>\n",
       "  </thead>\n",
       "  <tbody>\n",
       "    <tr>\n",
       "      <th>5</th>\n",
       "      <td>tt0000001</td>\n",
       "      <td>6</td>\n",
       "      <td>Carmencita</td>\n",
       "      <td>US</td>\n",
       "      <td>NaN</td>\n",
       "      <td>imdbDisplay</td>\n",
       "      <td>NaN</td>\n",
       "      <td>0</td>\n",
       "    </tr>\n",
       "    <tr>\n",
       "      <th>14</th>\n",
       "      <td>tt0000002</td>\n",
       "      <td>7</td>\n",
       "      <td>The Clown and His Dogs</td>\n",
       "      <td>US</td>\n",
       "      <td>NaN</td>\n",
       "      <td>NaN</td>\n",
       "      <td>literal English title</td>\n",
       "      <td>0</td>\n",
       "    </tr>\n",
       "    <tr>\n",
       "      <th>33</th>\n",
       "      <td>tt0000005</td>\n",
       "      <td>10</td>\n",
       "      <td>Blacksmith Scene</td>\n",
       "      <td>US</td>\n",
       "      <td>NaN</td>\n",
       "      <td>imdbDisplay</td>\n",
       "      <td>NaN</td>\n",
       "      <td>0</td>\n",
       "    </tr>\n",
       "    <tr>\n",
       "      <th>36</th>\n",
       "      <td>tt0000005</td>\n",
       "      <td>1</td>\n",
       "      <td>Blacksmithing Scene</td>\n",
       "      <td>US</td>\n",
       "      <td>NaN</td>\n",
       "      <td>alternative</td>\n",
       "      <td>NaN</td>\n",
       "      <td>0</td>\n",
       "    </tr>\n",
       "    <tr>\n",
       "      <th>41</th>\n",
       "      <td>tt0000005</td>\n",
       "      <td>6</td>\n",
       "      <td>Blacksmith Scene #1</td>\n",
       "      <td>US</td>\n",
       "      <td>NaN</td>\n",
       "      <td>alternative</td>\n",
       "      <td>NaN</td>\n",
       "      <td>0</td>\n",
       "    </tr>\n",
       "  </tbody>\n",
       "</table>\n",
       "</div>"
      ],
      "text/plain": [
       "      titleId  ordering                   title region language        types  \\\n",
       "5   tt0000001         6              Carmencita     US      NaN  imdbDisplay   \n",
       "14  tt0000002         7  The Clown and His Dogs     US      NaN          NaN   \n",
       "33  tt0000005        10        Blacksmith Scene     US      NaN  imdbDisplay   \n",
       "36  tt0000005         1     Blacksmithing Scene     US      NaN  alternative   \n",
       "41  tt0000005         6     Blacksmith Scene #1     US      NaN  alternative   \n",
       "\n",
       "               attributes isOriginalTitle  \n",
       "5                     NaN               0  \n",
       "14  literal English title               0  \n",
       "33                    NaN               0  \n",
       "36                    NaN               0  \n",
       "41                    NaN               0  "
      ]
     },
     "execution_count": 42,
     "metadata": {},
     "output_type": "execute_result"
    }
   ],
   "source": [
    "aka.head()"
   ]
  },
  {
   "cell_type": "code",
   "execution_count": 43,
   "id": "85777ad0",
   "metadata": {},
   "outputs": [
    {
     "name": "stdout",
     "output_type": "stream",
     "text": [
      "<class 'pandas.core.frame.DataFrame'>\n",
      "Int64Index: 1362031 entries, 5 to 33606879\n",
      "Data columns (total 8 columns):\n",
      " #   Column           Non-Null Count    Dtype \n",
      "---  ------           --------------    ----- \n",
      " 0   titleId          1362031 non-null  object\n",
      " 1   ordering         1362031 non-null  int64 \n",
      " 2   title            1362031 non-null  object\n",
      " 3   region           1362031 non-null  object\n",
      " 4   language         3699 non-null     object\n",
      " 5   types            965151 non-null   object\n",
      " 6   attributes       45226 non-null    object\n",
      " 7   isOriginalTitle  1360656 non-null  object\n",
      "dtypes: int64(1), object(7)\n",
      "memory usage: 93.5+ MB\n"
     ]
    }
   ],
   "source": [
    "aka.info()"
   ]
  },
  {
   "cell_type": "code",
   "execution_count": 44,
   "id": "b9d1c399",
   "metadata": {},
   "outputs": [
    {
     "data": {
      "text/plain": [
       "34793       True\n",
       "61095       True\n",
       "67641       True\n",
       "77935      False\n",
       "86771       True\n",
       "           ...  \n",
       "9319858     True\n",
       "9319867     True\n",
       "9319906    False\n",
       "9319951     True\n",
       "9320035    False\n",
       "Name: tconst, Length: 144201, dtype: bool"
      ]
     },
     "execution_count": 44,
     "metadata": {},
     "output_type": "execute_result"
    }
   ],
   "source": [
    "keep = bas['tconst'].isin(aka['titleId'])\n",
    "keep"
   ]
  },
  {
   "cell_type": "code",
   "execution_count": 45,
   "id": "d9b5cf15",
   "metadata": {},
   "outputs": [
    {
     "data": {
      "text/html": [
       "<div>\n",
       "<style scoped>\n",
       "    .dataframe tbody tr th:only-of-type {\n",
       "        vertical-align: middle;\n",
       "    }\n",
       "\n",
       "    .dataframe tbody tr th {\n",
       "        vertical-align: top;\n",
       "    }\n",
       "\n",
       "    .dataframe thead th {\n",
       "        text-align: right;\n",
       "    }\n",
       "</style>\n",
       "<table border=\"1\" class=\"dataframe\">\n",
       "  <thead>\n",
       "    <tr style=\"text-align: right;\">\n",
       "      <th></th>\n",
       "      <th>tconst</th>\n",
       "      <th>titleType</th>\n",
       "      <th>primaryTitle</th>\n",
       "      <th>originalTitle</th>\n",
       "      <th>isAdult</th>\n",
       "      <th>startYear</th>\n",
       "      <th>endYear</th>\n",
       "      <th>runtimeMinutes</th>\n",
       "      <th>genres</th>\n",
       "    </tr>\n",
       "  </thead>\n",
       "  <tbody>\n",
       "    <tr>\n",
       "      <th>34793</th>\n",
       "      <td>tt0035423</td>\n",
       "      <td>movie</td>\n",
       "      <td>Kate &amp; Leopold</td>\n",
       "      <td>Kate &amp; Leopold</td>\n",
       "      <td>0</td>\n",
       "      <td>2001</td>\n",
       "      <td>NaN</td>\n",
       "      <td>118</td>\n",
       "      <td>Comedy,Fantasy,Romance</td>\n",
       "    </tr>\n",
       "    <tr>\n",
       "      <th>61095</th>\n",
       "      <td>tt0062336</td>\n",
       "      <td>movie</td>\n",
       "      <td>The Tango of the Widower and Its Distorting Mi...</td>\n",
       "      <td>El Tango del Viudo y Su Espejo Deformante</td>\n",
       "      <td>0</td>\n",
       "      <td>2020</td>\n",
       "      <td>NaN</td>\n",
       "      <td>70</td>\n",
       "      <td>Drama</td>\n",
       "    </tr>\n",
       "    <tr>\n",
       "      <th>67641</th>\n",
       "      <td>tt0069049</td>\n",
       "      <td>movie</td>\n",
       "      <td>The Other Side of the Wind</td>\n",
       "      <td>The Other Side of the Wind</td>\n",
       "      <td>0</td>\n",
       "      <td>2018</td>\n",
       "      <td>NaN</td>\n",
       "      <td>122</td>\n",
       "      <td>Drama</td>\n",
       "    </tr>\n",
       "    <tr>\n",
       "      <th>86771</th>\n",
       "      <td>tt0088751</td>\n",
       "      <td>movie</td>\n",
       "      <td>The Naked Monster</td>\n",
       "      <td>The Naked Monster</td>\n",
       "      <td>0</td>\n",
       "      <td>2005</td>\n",
       "      <td>NaN</td>\n",
       "      <td>100</td>\n",
       "      <td>Comedy,Horror,Sci-Fi</td>\n",
       "    </tr>\n",
       "    <tr>\n",
       "      <th>93907</th>\n",
       "      <td>tt0096056</td>\n",
       "      <td>movie</td>\n",
       "      <td>Crime and Punishment</td>\n",
       "      <td>Crime and Punishment</td>\n",
       "      <td>0</td>\n",
       "      <td>2002</td>\n",
       "      <td>NaN</td>\n",
       "      <td>126</td>\n",
       "      <td>Drama</td>\n",
       "    </tr>\n",
       "  </tbody>\n",
       "</table>\n",
       "</div>"
      ],
      "text/plain": [
       "          tconst titleType                                       primaryTitle  \\\n",
       "34793  tt0035423     movie                                     Kate & Leopold   \n",
       "61095  tt0062336     movie  The Tango of the Widower and Its Distorting Mi...   \n",
       "67641  tt0069049     movie                         The Other Side of the Wind   \n",
       "86771  tt0088751     movie                                  The Naked Monster   \n",
       "93907  tt0096056     movie                               Crime and Punishment   \n",
       "\n",
       "                                   originalTitle isAdult startYear endYear  \\\n",
       "34793                             Kate & Leopold       0      2001     NaN   \n",
       "61095  El Tango del Viudo y Su Espejo Deformante       0      2020     NaN   \n",
       "67641                 The Other Side of the Wind       0      2018     NaN   \n",
       "86771                          The Naked Monster       0      2005     NaN   \n",
       "93907                       Crime and Punishment       0      2002     NaN   \n",
       "\n",
       "      runtimeMinutes                  genres  \n",
       "34793            118  Comedy,Fantasy,Romance  \n",
       "61095             70                   Drama  \n",
       "67641            122                   Drama  \n",
       "86771            100    Comedy,Horror,Sci-Fi  \n",
       "93907            126                   Drama  "
      ]
     },
     "execution_count": 45,
     "metadata": {},
     "output_type": "execute_result"
    }
   ],
   "source": [
    "bas = bas[keep]\n",
    "bas.head()"
   ]
  },
  {
   "cell_type": "code",
   "execution_count": 46,
   "id": "cccc5651",
   "metadata": {},
   "outputs": [
    {
     "name": "stdout",
     "output_type": "stream",
     "text": [
      "<class 'pandas.core.frame.DataFrame'>\n",
      "RangeIndex: 1240195 entries, 0 to 1240194\n",
      "Data columns (total 3 columns):\n",
      " #   Column         Non-Null Count    Dtype  \n",
      "---  ------         --------------    -----  \n",
      " 0   tconst         1240195 non-null  object \n",
      " 1   averageRating  1240195 non-null  float64\n",
      " 2   numVotes       1240195 non-null  int64  \n",
      "dtypes: float64(1), int64(1), object(1)\n",
      "memory usage: 28.4+ MB\n"
     ]
    }
   ],
   "source": [
    "rat.info()"
   ]
  },
  {
   "cell_type": "code",
   "execution_count": 47,
   "id": "ccb30b69",
   "metadata": {},
   "outputs": [
    {
     "data": {
      "text/html": [
       "<div>\n",
       "<style scoped>\n",
       "    .dataframe tbody tr th:only-of-type {\n",
       "        vertical-align: middle;\n",
       "    }\n",
       "\n",
       "    .dataframe tbody tr th {\n",
       "        vertical-align: top;\n",
       "    }\n",
       "\n",
       "    .dataframe thead th {\n",
       "        text-align: right;\n",
       "    }\n",
       "</style>\n",
       "<table border=\"1\" class=\"dataframe\">\n",
       "  <thead>\n",
       "    <tr style=\"text-align: right;\">\n",
       "      <th></th>\n",
       "      <th>tconst</th>\n",
       "      <th>averageRating</th>\n",
       "      <th>numVotes</th>\n",
       "    </tr>\n",
       "  </thead>\n",
       "  <tbody>\n",
       "    <tr>\n",
       "      <th>0</th>\n",
       "      <td>tt0000001</td>\n",
       "      <td>5.7</td>\n",
       "      <td>1920</td>\n",
       "    </tr>\n",
       "    <tr>\n",
       "      <th>1</th>\n",
       "      <td>tt0000002</td>\n",
       "      <td>5.8</td>\n",
       "      <td>260</td>\n",
       "    </tr>\n",
       "    <tr>\n",
       "      <th>2</th>\n",
       "      <td>tt0000003</td>\n",
       "      <td>6.5</td>\n",
       "      <td>1728</td>\n",
       "    </tr>\n",
       "    <tr>\n",
       "      <th>3</th>\n",
       "      <td>tt0000004</td>\n",
       "      <td>5.6</td>\n",
       "      <td>173</td>\n",
       "    </tr>\n",
       "    <tr>\n",
       "      <th>4</th>\n",
       "      <td>tt0000005</td>\n",
       "      <td>6.2</td>\n",
       "      <td>2541</td>\n",
       "    </tr>\n",
       "  </tbody>\n",
       "</table>\n",
       "</div>"
      ],
      "text/plain": [
       "      tconst  averageRating  numVotes\n",
       "0  tt0000001            5.7      1920\n",
       "1  tt0000002            5.8       260\n",
       "2  tt0000003            6.5      1728\n",
       "3  tt0000004            5.6       173\n",
       "4  tt0000005            6.2      2541"
      ]
     },
     "execution_count": 47,
     "metadata": {},
     "output_type": "execute_result"
    }
   ],
   "source": [
    "rat.head()"
   ]
  },
  {
   "cell_type": "code",
   "execution_count": 48,
   "id": "2e189bf0",
   "metadata": {},
   "outputs": [
    {
     "data": {
      "text/plain": [
       "0"
      ]
     },
     "execution_count": 48,
     "metadata": {},
     "output_type": "execute_result"
    }
   ],
   "source": [
    "rat.duplicated().sum()"
   ]
  },
  {
   "cell_type": "code",
   "execution_count": 49,
   "id": "ccfef4f4",
   "metadata": {},
   "outputs": [
    {
     "data": {
      "text/plain": [
       "tconst           0\n",
       "averageRating    0\n",
       "numVotes         0\n",
       "dtype: int64"
      ]
     },
     "execution_count": 49,
     "metadata": {},
     "output_type": "execute_result"
    }
   ],
   "source": [
    "rat.isna().sum()"
   ]
  },
  {
   "cell_type": "code",
   "execution_count": 50,
   "id": "37f0109d",
   "metadata": {},
   "outputs": [
    {
     "data": {
      "text/plain": [
       "0           True\n",
       "1           True\n",
       "2          False\n",
       "3          False\n",
       "4           True\n",
       "           ...  \n",
       "1240190    False\n",
       "1240191     True\n",
       "1240192    False\n",
       "1240193    False\n",
       "1240194    False\n",
       "Name: tconst, Length: 1240195, dtype: bool"
      ]
     },
     "execution_count": 50,
     "metadata": {},
     "output_type": "execute_result"
    }
   ],
   "source": [
    "keepII = rat['tconst'].isin(aka['titleId'])\n",
    "keepII"
   ]
  },
  {
   "cell_type": "code",
   "execution_count": 51,
   "id": "670051dc",
   "metadata": {},
   "outputs": [
    {
     "data": {
      "text/html": [
       "<div>\n",
       "<style scoped>\n",
       "    .dataframe tbody tr th:only-of-type {\n",
       "        vertical-align: middle;\n",
       "    }\n",
       "\n",
       "    .dataframe tbody tr th {\n",
       "        vertical-align: top;\n",
       "    }\n",
       "\n",
       "    .dataframe thead th {\n",
       "        text-align: right;\n",
       "    }\n",
       "</style>\n",
       "<table border=\"1\" class=\"dataframe\">\n",
       "  <thead>\n",
       "    <tr style=\"text-align: right;\">\n",
       "      <th></th>\n",
       "      <th>tconst</th>\n",
       "      <th>averageRating</th>\n",
       "      <th>numVotes</th>\n",
       "    </tr>\n",
       "  </thead>\n",
       "  <tbody>\n",
       "    <tr>\n",
       "      <th>0</th>\n",
       "      <td>tt0000001</td>\n",
       "      <td>5.7</td>\n",
       "      <td>1920</td>\n",
       "    </tr>\n",
       "    <tr>\n",
       "      <th>1</th>\n",
       "      <td>tt0000002</td>\n",
       "      <td>5.8</td>\n",
       "      <td>260</td>\n",
       "    </tr>\n",
       "    <tr>\n",
       "      <th>4</th>\n",
       "      <td>tt0000005</td>\n",
       "      <td>6.2</td>\n",
       "      <td>2541</td>\n",
       "    </tr>\n",
       "    <tr>\n",
       "      <th>5</th>\n",
       "      <td>tt0000006</td>\n",
       "      <td>5.1</td>\n",
       "      <td>175</td>\n",
       "    </tr>\n",
       "    <tr>\n",
       "      <th>6</th>\n",
       "      <td>tt0000007</td>\n",
       "      <td>5.4</td>\n",
       "      <td>797</td>\n",
       "    </tr>\n",
       "  </tbody>\n",
       "</table>\n",
       "</div>"
      ],
      "text/plain": [
       "      tconst  averageRating  numVotes\n",
       "0  tt0000001            5.7      1920\n",
       "1  tt0000002            5.8       260\n",
       "4  tt0000005            6.2      2541\n",
       "5  tt0000006            5.1       175\n",
       "6  tt0000007            5.4       797"
      ]
     },
     "execution_count": 51,
     "metadata": {},
     "output_type": "execute_result"
    }
   ],
   "source": [
    "rat = rat[keepII]\n",
    "rat.head()"
   ]
  },
  {
   "cell_type": "code",
   "execution_count": 52,
   "id": "78cbff76",
   "metadata": {},
   "outputs": [
    {
     "name": "stdout",
     "output_type": "stream",
     "text": [
      "<class 'pandas.core.frame.DataFrame'>\n",
      "Int64Index: 83087 entries, 34793 to 9319951\n",
      "Data columns (total 9 columns):\n",
      " #   Column          Non-Null Count  Dtype \n",
      "---  ------          --------------  ----- \n",
      " 0   tconst          83087 non-null  object\n",
      " 1   titleType       83087 non-null  object\n",
      " 2   primaryTitle    83087 non-null  object\n",
      " 3   originalTitle   83087 non-null  object\n",
      " 4   isAdult         83087 non-null  object\n",
      " 5   startYear       83087 non-null  object\n",
      " 6   endYear         0 non-null      object\n",
      " 7   runtimeMinutes  83087 non-null  object\n",
      " 8   genres          83087 non-null  object\n",
      "dtypes: object(9)\n",
      "memory usage: 6.3+ MB\n"
     ]
    }
   ],
   "source": [
    "bas.info()"
   ]
  },
  {
   "cell_type": "code",
   "execution_count": 53,
   "id": "21210d10",
   "metadata": {},
   "outputs": [
    {
     "name": "stdout",
     "output_type": "stream",
     "text": [
      "<class 'pandas.core.frame.DataFrame'>\n",
      "Int64Index: 1362031 entries, 5 to 33606879\n",
      "Data columns (total 8 columns):\n",
      " #   Column           Non-Null Count    Dtype \n",
      "---  ------           --------------    ----- \n",
      " 0   titleId          1362031 non-null  object\n",
      " 1   ordering         1362031 non-null  int64 \n",
      " 2   title            1362031 non-null  object\n",
      " 3   region           1362031 non-null  object\n",
      " 4   language         3699 non-null     object\n",
      " 5   types            965151 non-null   object\n",
      " 6   attributes       45226 non-null    object\n",
      " 7   isOriginalTitle  1360656 non-null  object\n",
      "dtypes: int64(1), object(7)\n",
      "memory usage: 93.5+ MB\n"
     ]
    }
   ],
   "source": [
    "aka.info()"
   ]
  },
  {
   "cell_type": "code",
   "execution_count": 54,
   "id": "ac25a531",
   "metadata": {},
   "outputs": [
    {
     "name": "stdout",
     "output_type": "stream",
     "text": [
      "<class 'pandas.core.frame.DataFrame'>\n",
      "Int64Index: 472371 entries, 0 to 1240191\n",
      "Data columns (total 3 columns):\n",
      " #   Column         Non-Null Count   Dtype  \n",
      "---  ------         --------------   -----  \n",
      " 0   tconst         472371 non-null  object \n",
      " 1   averageRating  472371 non-null  float64\n",
      " 2   numVotes       472371 non-null  int64  \n",
      "dtypes: float64(1), int64(1), object(1)\n",
      "memory usage: 14.4+ MB\n"
     ]
    }
   ],
   "source": [
    "rat.info()"
   ]
  },
  {
   "cell_type": "code",
   "execution_count": 55,
   "id": "5412e712",
   "metadata": {},
   "outputs": [
    {
     "data": {
      "text/plain": [
       "['.ipynb_checkpoints',\n",
       " 'title_akas.csv.gz',\n",
       " 'title_basics.csv.gz',\n",
       " 'title_ratings.csv.gz']"
      ]
     },
     "execution_count": 55,
     "metadata": {},
     "output_type": "execute_result"
    }
   ],
   "source": [
    "import os\n",
    "os.makedirs('Data/',exist_ok=True) \n",
    "\n",
    "os.listdir(\"Data/\")"
   ]
  },
  {
   "cell_type": "code",
   "execution_count": 56,
   "id": "6a3e2df6",
   "metadata": {},
   "outputs": [],
   "source": [
    "bas.to_csv(\"Data/title_basics.csv.gz\",compression='gzip',index=False)"
   ]
  },
  {
   "cell_type": "code",
   "execution_count": 57,
   "id": "40282f79",
   "metadata": {},
   "outputs": [
    {
     "data": {
      "text/html": [
       "<div>\n",
       "<style scoped>\n",
       "    .dataframe tbody tr th:only-of-type {\n",
       "        vertical-align: middle;\n",
       "    }\n",
       "\n",
       "    .dataframe tbody tr th {\n",
       "        vertical-align: top;\n",
       "    }\n",
       "\n",
       "    .dataframe thead th {\n",
       "        text-align: right;\n",
       "    }\n",
       "</style>\n",
       "<table border=\"1\" class=\"dataframe\">\n",
       "  <thead>\n",
       "    <tr style=\"text-align: right;\">\n",
       "      <th></th>\n",
       "      <th>tconst</th>\n",
       "      <th>titleType</th>\n",
       "      <th>primaryTitle</th>\n",
       "      <th>originalTitle</th>\n",
       "      <th>isAdult</th>\n",
       "      <th>startYear</th>\n",
       "      <th>endYear</th>\n",
       "      <th>runtimeMinutes</th>\n",
       "      <th>genres</th>\n",
       "    </tr>\n",
       "  </thead>\n",
       "  <tbody>\n",
       "    <tr>\n",
       "      <th>0</th>\n",
       "      <td>tt0035423</td>\n",
       "      <td>movie</td>\n",
       "      <td>Kate &amp; Leopold</td>\n",
       "      <td>Kate &amp; Leopold</td>\n",
       "      <td>0</td>\n",
       "      <td>2001</td>\n",
       "      <td>NaN</td>\n",
       "      <td>118</td>\n",
       "      <td>Comedy,Fantasy,Romance</td>\n",
       "    </tr>\n",
       "    <tr>\n",
       "      <th>1</th>\n",
       "      <td>tt0062336</td>\n",
       "      <td>movie</td>\n",
       "      <td>The Tango of the Widower and Its Distorting Mi...</td>\n",
       "      <td>El Tango del Viudo y Su Espejo Deformante</td>\n",
       "      <td>0</td>\n",
       "      <td>2020</td>\n",
       "      <td>NaN</td>\n",
       "      <td>70</td>\n",
       "      <td>Drama</td>\n",
       "    </tr>\n",
       "    <tr>\n",
       "      <th>2</th>\n",
       "      <td>tt0069049</td>\n",
       "      <td>movie</td>\n",
       "      <td>The Other Side of the Wind</td>\n",
       "      <td>The Other Side of the Wind</td>\n",
       "      <td>0</td>\n",
       "      <td>2018</td>\n",
       "      <td>NaN</td>\n",
       "      <td>122</td>\n",
       "      <td>Drama</td>\n",
       "    </tr>\n",
       "    <tr>\n",
       "      <th>3</th>\n",
       "      <td>tt0088751</td>\n",
       "      <td>movie</td>\n",
       "      <td>The Naked Monster</td>\n",
       "      <td>The Naked Monster</td>\n",
       "      <td>0</td>\n",
       "      <td>2005</td>\n",
       "      <td>NaN</td>\n",
       "      <td>100</td>\n",
       "      <td>Comedy,Horror,Sci-Fi</td>\n",
       "    </tr>\n",
       "    <tr>\n",
       "      <th>4</th>\n",
       "      <td>tt0096056</td>\n",
       "      <td>movie</td>\n",
       "      <td>Crime and Punishment</td>\n",
       "      <td>Crime and Punishment</td>\n",
       "      <td>0</td>\n",
       "      <td>2002</td>\n",
       "      <td>NaN</td>\n",
       "      <td>126</td>\n",
       "      <td>Drama</td>\n",
       "    </tr>\n",
       "  </tbody>\n",
       "</table>\n",
       "</div>"
      ],
      "text/plain": [
       "      tconst titleType                                       primaryTitle  \\\n",
       "0  tt0035423     movie                                     Kate & Leopold   \n",
       "1  tt0062336     movie  The Tango of the Widower and Its Distorting Mi...   \n",
       "2  tt0069049     movie                         The Other Side of the Wind   \n",
       "3  tt0088751     movie                                  The Naked Monster   \n",
       "4  tt0096056     movie                               Crime and Punishment   \n",
       "\n",
       "                               originalTitle  isAdult  startYear  endYear  \\\n",
       "0                             Kate & Leopold        0       2001      NaN   \n",
       "1  El Tango del Viudo y Su Espejo Deformante        0       2020      NaN   \n",
       "2                 The Other Side of the Wind        0       2018      NaN   \n",
       "3                          The Naked Monster        0       2005      NaN   \n",
       "4                       Crime and Punishment        0       2002      NaN   \n",
       "\n",
       "   runtimeMinutes                  genres  \n",
       "0             118  Comedy,Fantasy,Romance  \n",
       "1              70                   Drama  \n",
       "2             122                   Drama  \n",
       "3             100    Comedy,Horror,Sci-Fi  \n",
       "4             126                   Drama  "
      ]
     },
     "execution_count": 57,
     "metadata": {},
     "output_type": "execute_result"
    }
   ],
   "source": [
    "bas = pd.read_csv(\"Data/title_basics.csv.gz\", low_memory = False)\n",
    "bas.head()"
   ]
  },
  {
   "cell_type": "code",
   "execution_count": 58,
   "id": "a06b7b58",
   "metadata": {},
   "outputs": [],
   "source": [
    "aka.to_csv(\"Data/title_akas.csv.gz\",compression='gzip',index=False)"
   ]
  },
  {
   "cell_type": "code",
   "execution_count": 59,
   "id": "a13f5f96",
   "metadata": {},
   "outputs": [
    {
     "data": {
      "text/html": [
       "<div>\n",
       "<style scoped>\n",
       "    .dataframe tbody tr th:only-of-type {\n",
       "        vertical-align: middle;\n",
       "    }\n",
       "\n",
       "    .dataframe tbody tr th {\n",
       "        vertical-align: top;\n",
       "    }\n",
       "\n",
       "    .dataframe thead th {\n",
       "        text-align: right;\n",
       "    }\n",
       "</style>\n",
       "<table border=\"1\" class=\"dataframe\">\n",
       "  <thead>\n",
       "    <tr style=\"text-align: right;\">\n",
       "      <th></th>\n",
       "      <th>titleId</th>\n",
       "      <th>ordering</th>\n",
       "      <th>title</th>\n",
       "      <th>region</th>\n",
       "      <th>language</th>\n",
       "      <th>types</th>\n",
       "      <th>attributes</th>\n",
       "      <th>isOriginalTitle</th>\n",
       "    </tr>\n",
       "  </thead>\n",
       "  <tbody>\n",
       "    <tr>\n",
       "      <th>0</th>\n",
       "      <td>tt0000001</td>\n",
       "      <td>6</td>\n",
       "      <td>Carmencita</td>\n",
       "      <td>US</td>\n",
       "      <td>NaN</td>\n",
       "      <td>imdbDisplay</td>\n",
       "      <td>NaN</td>\n",
       "      <td>0.0</td>\n",
       "    </tr>\n",
       "    <tr>\n",
       "      <th>1</th>\n",
       "      <td>tt0000002</td>\n",
       "      <td>7</td>\n",
       "      <td>The Clown and His Dogs</td>\n",
       "      <td>US</td>\n",
       "      <td>NaN</td>\n",
       "      <td>NaN</td>\n",
       "      <td>literal English title</td>\n",
       "      <td>0.0</td>\n",
       "    </tr>\n",
       "    <tr>\n",
       "      <th>2</th>\n",
       "      <td>tt0000005</td>\n",
       "      <td>10</td>\n",
       "      <td>Blacksmith Scene</td>\n",
       "      <td>US</td>\n",
       "      <td>NaN</td>\n",
       "      <td>imdbDisplay</td>\n",
       "      <td>NaN</td>\n",
       "      <td>0.0</td>\n",
       "    </tr>\n",
       "    <tr>\n",
       "      <th>3</th>\n",
       "      <td>tt0000005</td>\n",
       "      <td>1</td>\n",
       "      <td>Blacksmithing Scene</td>\n",
       "      <td>US</td>\n",
       "      <td>NaN</td>\n",
       "      <td>alternative</td>\n",
       "      <td>NaN</td>\n",
       "      <td>0.0</td>\n",
       "    </tr>\n",
       "    <tr>\n",
       "      <th>4</th>\n",
       "      <td>tt0000005</td>\n",
       "      <td>6</td>\n",
       "      <td>Blacksmith Scene #1</td>\n",
       "      <td>US</td>\n",
       "      <td>NaN</td>\n",
       "      <td>alternative</td>\n",
       "      <td>NaN</td>\n",
       "      <td>0.0</td>\n",
       "    </tr>\n",
       "  </tbody>\n",
       "</table>\n",
       "</div>"
      ],
      "text/plain": [
       "     titleId  ordering                   title region language        types  \\\n",
       "0  tt0000001         6              Carmencita     US      NaN  imdbDisplay   \n",
       "1  tt0000002         7  The Clown and His Dogs     US      NaN          NaN   \n",
       "2  tt0000005        10        Blacksmith Scene     US      NaN  imdbDisplay   \n",
       "3  tt0000005         1     Blacksmithing Scene     US      NaN  alternative   \n",
       "4  tt0000005         6     Blacksmith Scene #1     US      NaN  alternative   \n",
       "\n",
       "              attributes  isOriginalTitle  \n",
       "0                    NaN              0.0  \n",
       "1  literal English title              0.0  \n",
       "2                    NaN              0.0  \n",
       "3                    NaN              0.0  \n",
       "4                    NaN              0.0  "
      ]
     },
     "execution_count": 59,
     "metadata": {},
     "output_type": "execute_result"
    }
   ],
   "source": [
    "aka = pd.read_csv(\"Data/title_akas.csv.gz\", low_memory = False)\n",
    "aka.head()"
   ]
  },
  {
   "cell_type": "code",
   "execution_count": 60,
   "id": "62a996c3",
   "metadata": {},
   "outputs": [],
   "source": [
    "rat.to_csv(\"Data/title_ratings.csv.gz\",compression='gzip',index=False)"
   ]
  },
  {
   "cell_type": "code",
   "execution_count": 61,
   "id": "5dd84429",
   "metadata": {},
   "outputs": [
    {
     "data": {
      "text/html": [
       "<div>\n",
       "<style scoped>\n",
       "    .dataframe tbody tr th:only-of-type {\n",
       "        vertical-align: middle;\n",
       "    }\n",
       "\n",
       "    .dataframe tbody tr th {\n",
       "        vertical-align: top;\n",
       "    }\n",
       "\n",
       "    .dataframe thead th {\n",
       "        text-align: right;\n",
       "    }\n",
       "</style>\n",
       "<table border=\"1\" class=\"dataframe\">\n",
       "  <thead>\n",
       "    <tr style=\"text-align: right;\">\n",
       "      <th></th>\n",
       "      <th>tconst</th>\n",
       "      <th>averageRating</th>\n",
       "      <th>numVotes</th>\n",
       "    </tr>\n",
       "  </thead>\n",
       "  <tbody>\n",
       "    <tr>\n",
       "      <th>0</th>\n",
       "      <td>tt0000001</td>\n",
       "      <td>5.7</td>\n",
       "      <td>1920</td>\n",
       "    </tr>\n",
       "    <tr>\n",
       "      <th>1</th>\n",
       "      <td>tt0000002</td>\n",
       "      <td>5.8</td>\n",
       "      <td>260</td>\n",
       "    </tr>\n",
       "    <tr>\n",
       "      <th>2</th>\n",
       "      <td>tt0000005</td>\n",
       "      <td>6.2</td>\n",
       "      <td>2541</td>\n",
       "    </tr>\n",
       "    <tr>\n",
       "      <th>3</th>\n",
       "      <td>tt0000006</td>\n",
       "      <td>5.1</td>\n",
       "      <td>175</td>\n",
       "    </tr>\n",
       "    <tr>\n",
       "      <th>4</th>\n",
       "      <td>tt0000007</td>\n",
       "      <td>5.4</td>\n",
       "      <td>797</td>\n",
       "    </tr>\n",
       "  </tbody>\n",
       "</table>\n",
       "</div>"
      ],
      "text/plain": [
       "      tconst  averageRating  numVotes\n",
       "0  tt0000001            5.7      1920\n",
       "1  tt0000002            5.8       260\n",
       "2  tt0000005            6.2      2541\n",
       "3  tt0000006            5.1       175\n",
       "4  tt0000007            5.4       797"
      ]
     },
     "execution_count": 61,
     "metadata": {},
     "output_type": "execute_result"
    }
   ],
   "source": [
    "rat = pd.read_csv(\"Data/title_ratings.csv.gz\", low_memory = False)\n",
    "rat.head()"
   ]
  },
  {
   "cell_type": "code",
   "execution_count": 62,
   "id": "e7f881f5",
   "metadata": {},
   "outputs": [
    {
     "data": {
      "text/plain": [
       "['.ipynb_checkpoints',\n",
       " 'title_akas.csv.gz',\n",
       " 'title_basics.csv.gz',\n",
       " 'title_ratings.csv.gz']"
      ]
     },
     "execution_count": 62,
     "metadata": {},
     "output_type": "execute_result"
    }
   ],
   "source": [
    "import os, time,json\n",
    "import tmdbsimple as tmdb \n",
    "FOLDER = \"Data/\"\n",
    "os.makedirs(FOLDER, exist_ok=True)\n",
    "os.listdir(FOLDER)"
   ]
  },
  {
   "cell_type": "code",
   "execution_count": 63,
   "id": "b4ad4d7b",
   "metadata": {},
   "outputs": [],
   "source": [
    "def write_json(new_data, filename): \n",
    "    \"\"\"Appends a list of records (new_data) to a json file (filename). \n",
    "    Adapted from: https://www.geeksforgeeks.org/append-to-json-file-using-python/\"\"\"  \n",
    "    \n",
    "    with open(filename,'r+') as file:\n",
    "        # First we load existing data into a dict.\n",
    "        file_data = json.load(file)\n",
    "        ## Choose extend or append\n",
    "        if (type(new_data) == list) & (type(file_data) == list):\n",
    "            file_data.extend(new_data)\n",
    "        else:\n",
    "             file_data.append(new_data)\n",
    "        # Sets file's current position at offset.\n",
    "        file.seek(0)\n",
    "        # convert back to json.\n",
    "        json.dump(file_data, file)"
   ]
  },
  {
   "cell_type": "code",
   "execution_count": 64,
   "id": "68de8405",
   "metadata": {},
   "outputs": [],
   "source": [
    "bas = pd.read_csv(\"Data/title_basics.csv.gz\")"
   ]
  },
  {
   "cell_type": "code",
   "execution_count": 65,
   "id": "10796a9f",
   "metadata": {},
   "outputs": [],
   "source": [
    "YEARS_TO_GET = [2000,2001]"
   ]
  },
  {
   "cell_type": "code",
   "execution_count": 66,
   "id": "02acce2c",
   "metadata": {},
   "outputs": [],
   "source": [
    "errors = [ ]"
   ]
  },
  {
   "cell_type": "code",
   "execution_count": 90,
   "id": "cb119ea0",
   "metadata": {},
   "outputs": [
    {
     "data": {
      "application/vnd.jupyter.widget-view+json": {
       "model_id": "9f4d370f31a749969c702bef7966ce87",
       "version_major": 2,
       "version_minor": 0
      },
      "text/plain": [
       "YEARS:   0%|          | 0/2 [00:00<?, ?it/s]"
      ]
     },
     "metadata": {},
     "output_type": "display_data"
    },
    {
     "name": "stdout",
     "output_type": "stream",
     "text": [
      "2000\n",
      "2001\n"
     ]
    }
   ],
   "source": [
    "# Start of OUTER loop\n",
    "from tqdm.notebook import tqdm_notebook\n",
    "for YEAR in tqdm_notebook(YEARS_TO_GET, desc = 'YEARS', position = 0):\n",
    "    print(YEAR)"
   ]
  },
  {
   "cell_type": "code",
   "execution_count": 91,
   "id": "d5820a8e",
   "metadata": {},
   "outputs": [],
   "source": [
    "#Defining the JSON file to store results for year\n",
    "JSON_FILE = f'{FOLDER}tmdb_api_results_{YEAR}.json'"
   ]
  },
  {
   "cell_type": "code",
   "execution_count": 92,
   "id": "08c76f9b",
   "metadata": {},
   "outputs": [],
   "source": [
    "# Check if file exists\n",
    "file_exists = os.path.isfile(JSON_FILE)"
   ]
  },
  {
   "cell_type": "code",
   "execution_count": 93,
   "id": "72943bca",
   "metadata": {},
   "outputs": [],
   "source": [
    "# If it does not exist: create it\n",
    "if file_exists == False:\n",
    "# save an empty dict with just \"imdb_id\" to the new json file.\n",
    "    with open(JSON_FILE,'w') as f:\n",
    "        json.dump([{'imdb_id':0}],f)"
   ]
  },
  {
   "cell_type": "code",
   "execution_count": 96,
   "id": "8fc915c0",
   "metadata": {},
   "outputs": [],
   "source": [
    "#Saving new year as the current df\n",
    "df = bas.loc[bas['startYear']==YEAR].copy()\n",
    "# saving movie ids to list\n",
    "movie_ids = df['tconst'].copy()"
   ]
  },
  {
   "cell_type": "code",
   "execution_count": 97,
   "id": "c1c38038",
   "metadata": {},
   "outputs": [],
   "source": [
    "# Load existing data from json into a dataframe called \"previous_df\"\n",
    "previous_df = pd.read_json(JSON_FILE)"
   ]
  },
  {
   "cell_type": "code",
   "execution_count": 98,
   "id": "8b44df01",
   "metadata": {},
   "outputs": [],
   "source": [
    "# filter out any ids that are already in the JSON_FILE\n",
    "movie_ids_to_get = movie_ids[~movie_ids.isin(previous_df['imdb_id'])]"
   ]
  },
  {
   "cell_type": "code",
   "execution_count": 99,
   "id": "dfbcc51c",
   "metadata": {},
   "outputs": [],
   "source": [
    "def get_movie_with_rating(movie_id):\n",
    "    \"\"\"Adapted from source = https://github.com/celiao.tmdbsimple\"\"\"\n",
    "    # Get the movie object for the current id\n",
    "    movie = tmdb.Movies(movie_id)\n",
    "    \n",
    "    # save the .info .releases dictionaries\n",
    "    info = movie.info()\n",
    "    \n",
    "    releases = movie.releases()\n",
    "    # Loop through countries in releases\n",
    "    for c in releases['countries']:\n",
    "        # if the country abbreviation==US\n",
    "        if c['iso_3166_1'] == 'US':\n",
    "            # save a \"certification\" key in info with the certification\n",
    "            info['certification'] = c['certification']\n",
    "    return info"
   ]
  },
  {
   "cell_type": "code",
   "execution_count": 100,
   "id": "2eb9f906",
   "metadata": {},
   "outputs": [
    {
     "data": {
      "application/vnd.jupyter.widget-view+json": {
       "model_id": "cdfcba20dd5d460a8f66e20d94991611",
       "version_major": 2,
       "version_minor": 0
      },
      "text/plain": [
       "Movies from 2001:   0%|          | 0/1532 [00:00<?, ?it/s]"
      ]
     },
     "metadata": {},
     "output_type": "display_data"
    }
   ],
   "source": [
    "    #Get index and movie id from list\n",
    "    # INNER Loop\n",
    "    for movie_id in tqdm_notebook(movie_ids_to_get,\n",
    "                                  desc=f'Movies from {YEAR}',\n",
    "                                  position=1,\n",
    "                                  leave=True):\n",
    "        try:\n",
    "            # Retrieve then data for the movie id\n",
    "            temp = get_movie_with_rating(movie_id)  \n",
    "            # Append/extend results to existing file using a pre-made function\n",
    "            write_json(temp,JSON_FILE)\n",
    "            # Short 20 ms sleep to prevent overwhelming server\n",
    "            time.sleep(0.02)\n",
    "            \n",
    "        except Exception as e:\n",
    "            errors.append([movie_id, e])"
   ]
  },
  {
   "cell_type": "code",
   "execution_count": 101,
   "id": "aae7d709",
   "metadata": {},
   "outputs": [],
   "source": [
    "final_year_df = pd.read_json(JSON_FILE)\n",
    "final_year_df.to_csv(f\"{FOLDER}final_tmdb_data_{YEAR}.csv.gz\", compression=\"gzip\", index=False)"
   ]
  },
  {
   "cell_type": "code",
   "execution_count": 102,
   "id": "4f8c06c6",
   "metadata": {},
   "outputs": [
    {
     "name": "stdout",
     "output_type": "stream",
     "text": [
      "- Total errors: 1532\n"
     ]
    }
   ],
   "source": [
    "print(f\"- Total errors: {len(errors)}\")"
   ]
  },
  {
   "cell_type": "code",
   "execution_count": null,
   "id": "0ed40b66",
   "metadata": {},
   "outputs": [],
   "source": []
  },
  {
   "cell_type": "code",
   "execution_count": null,
   "id": "8b84704c",
   "metadata": {},
   "outputs": [],
   "source": []
  },
  {
   "cell_type": "code",
   "execution_count": null,
   "id": "996488f5",
   "metadata": {},
   "outputs": [],
   "source": []
  },
  {
   "cell_type": "code",
   "execution_count": null,
   "id": "d88e2759",
   "metadata": {},
   "outputs": [],
   "source": []
  },
  {
   "cell_type": "code",
   "execution_count": null,
   "id": "af693031",
   "metadata": {},
   "outputs": [],
   "source": []
  },
  {
   "cell_type": "code",
   "execution_count": null,
   "id": "e77d5002",
   "metadata": {},
   "outputs": [],
   "source": []
  },
  {
   "cell_type": "code",
   "execution_count": null,
   "id": "c5e68886",
   "metadata": {},
   "outputs": [],
   "source": []
  }
 ],
 "metadata": {
  "kernelspec": {
   "display_name": "Python (dojo-env)",
   "language": "python",
   "name": "dojo-env"
  },
  "language_info": {
   "codemirror_mode": {
    "name": "ipython",
    "version": 3
   },
   "file_extension": ".py",
   "mimetype": "text/x-python",
   "name": "python",
   "nbconvert_exporter": "python",
   "pygments_lexer": "ipython3",
   "version": "3.8.13"
  },
  "toc": {
   "base_numbering": 1,
   "nav_menu": {},
   "number_sections": false,
   "sideBar": true,
   "skip_h1_title": false,
   "title_cell": "Table of Contents",
   "title_sidebar": "Contents",
   "toc_cell": false,
   "toc_position": {},
   "toc_section_display": true,
   "toc_window_display": false
  }
 },
 "nbformat": 4,
 "nbformat_minor": 5
}
