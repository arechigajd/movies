{
 "cells": [
  {
   "cell_type": "code",
   "execution_count": 1,
   "id": "b89da385",
   "metadata": {},
   "outputs": [],
   "source": [
    "import pandas as pd\n",
    "import numpy as np"
   ]
  },
  {
   "cell_type": "code",
   "execution_count": 2,
   "id": "2ab44e22",
   "metadata": {},
   "outputs": [],
   "source": [
    "bas_url = \"https://datasets.imdbws.com/title.basics.tsv.gz\""
   ]
  },
  {
   "cell_type": "code",
   "execution_count": 3,
   "id": "be4d6344",
   "metadata": {},
   "outputs": [],
   "source": [
    "aka_url = \"https://datasets.imdbws.com/title.akas.tsv.gz\""
   ]
  },
  {
   "cell_type": "code",
   "execution_count": 4,
   "id": "721bb98c",
   "metadata": {},
   "outputs": [],
   "source": [
    "rat_url = \"https://datasets.imdbws.com/title.ratings.tsv.gz\""
   ]
  },
  {
   "cell_type": "code",
   "execution_count": 5,
   "id": "8684ab5f",
   "metadata": {},
   "outputs": [],
   "source": [
    "bas = pd.read_csv(bas_url, sep='\\t', low_memory=False)"
   ]
  },
  {
   "cell_type": "code",
   "execution_count": 6,
   "id": "d12319ed",
   "metadata": {},
   "outputs": [],
   "source": [
    "aka = pd.read_csv(aka_url, sep='\\t', low_memory=False)"
   ]
  },
  {
   "cell_type": "code",
   "execution_count": 7,
   "id": "0d434743",
   "metadata": {},
   "outputs": [],
   "source": [
    "rat = pd.read_csv(rat_url, sep='\\t', low_memory=False)"
   ]
  },
  {
   "cell_type": "code",
   "execution_count": 8,
   "id": "b8f828c4",
   "metadata": {},
   "outputs": [
    {
     "data": {
      "text/plain": [
       "tconst      titleType     primaryTitle                                originalTitle                               isAdult  startYear  endYear  runtimeMinutes  genres          \n",
       "tt0025509   tvSeries      Les Misérables                              Les misérables                              0        1934       1934     279             Drama               1\n",
       "tt21420000  tvMiniSeries  The Body                                    The Body                                    0        2018       2018     50              Documentary         1\n",
       "tt2144870   tvSeries      TSN Pins Game                               TSN Pins Game                               0        2003       2008     60              Sport               1\n",
       "tt2144915   tvSeries      Menudo on ABC                               Menudo on ABC                               0        1983       1985     30              Family              1\n",
       "tt2145266   tvSeries      Wege zum Glück - Spuren im Sand             Wege zum Glück - Spuren im Sand             0        2012       2012     43              Drama,Romance       1\n",
       "                                                                                                                                                                                  ..\n",
       "tt1019997   tvSeries      Okusama wa gaikokujin                       Okusama wa gaikokujin                       0        2006       2007     57              Talk-Show           1\n",
       "tt10200004  tvSeries      Ture Sventon & Bermudatriangelns hemlighet  Ture Sventon & Bermudatriangelns hemlighet  0        2019       2020     260             Adventure,Family    1\n",
       "tt10200518  tvSeries      Olho Mágico Reforma de Vizinhos             Olho Mágico Reforma de Vizinhos             0        2015       2015     52              Reality-TV          1\n",
       "tt10200616  tvSeries      Melkein totta                               Melkein totta                               0        2019       2019     192             Comedy              1\n",
       "tt9916216   tvSeries      Kalyanam Mudhal Kadhal Varai                Kalyanam Mudhal Kadhal Varai                0        2014       2017     22              Romance             1\n",
       "Length: 45510, dtype: int64"
      ]
     },
     "execution_count": 8,
     "metadata": {},
     "output_type": "execute_result"
    }
   ],
   "source": [
    "bas = bas.replace({'\\\\N':np.nan})\n",
    "bas.value_counts()"
   ]
  },
  {
   "cell_type": "code",
   "execution_count": 9,
   "id": "7249e290",
   "metadata": {},
   "outputs": [],
   "source": [
    "aka = aka.replace({'\\\\N':np.nan})"
   ]
  },
  {
   "cell_type": "code",
   "execution_count": 10,
   "id": "bd14958a",
   "metadata": {},
   "outputs": [],
   "source": [
    "rat = rat.replace({'\\\\N':np.nan})"
   ]
  },
  {
   "cell_type": "code",
   "execution_count": 11,
   "id": "73de0085",
   "metadata": {},
   "outputs": [
    {
     "data": {
      "text/plain": [
       "tconst                  0\n",
       "titleType               0\n",
       "primaryTitle           11\n",
       "originalTitle          11\n",
       "isAdult                 1\n",
       "startYear         1233296\n",
       "endYear           9151992\n",
       "runtimeMinutes    6771090\n",
       "genres             427797\n",
       "dtype: int64"
      ]
     },
     "execution_count": 11,
     "metadata": {},
     "output_type": "execute_result"
    }
   ],
   "source": [
    "bas.isna().sum()"
   ]
  },
  {
   "cell_type": "code",
   "execution_count": 12,
   "id": "b86af9ee",
   "metadata": {},
   "outputs": [],
   "source": [
    "bas.dropna(subset=['runtimeMinutes'], inplace = True)"
   ]
  },
  {
   "cell_type": "code",
   "execution_count": 13,
   "id": "627a03d5",
   "metadata": {},
   "outputs": [
    {
     "data": {
      "text/plain": [
       "tconst                  0\n",
       "titleType               0\n",
       "primaryTitle            1\n",
       "originalTitle           1\n",
       "isAdult                 1\n",
       "startYear           37763\n",
       "endYear           2430286\n",
       "runtimeMinutes          0\n",
       "genres              67465\n",
       "dtype: int64"
      ]
     },
     "execution_count": 13,
     "metadata": {},
     "output_type": "execute_result"
    }
   ],
   "source": [
    "bas.isna().sum()"
   ]
  },
  {
   "cell_type": "code",
   "execution_count": 14,
   "id": "7c62657b",
   "metadata": {},
   "outputs": [],
   "source": [
    "bas.dropna(subset=['genres'], inplace = True)"
   ]
  },
  {
   "cell_type": "code",
   "execution_count": 15,
   "id": "07726846",
   "metadata": {},
   "outputs": [
    {
     "data": {
      "text/plain": [
       "tconst                  0\n",
       "titleType               0\n",
       "primaryTitle            1\n",
       "originalTitle           1\n",
       "isAdult                 0\n",
       "startYear           36428\n",
       "endYear           2364385\n",
       "runtimeMinutes          0\n",
       "genres                  0\n",
       "dtype: int64"
      ]
     },
     "execution_count": 15,
     "metadata": {},
     "output_type": "execute_result"
    }
   ],
   "source": [
    "bas.isna().sum()"
   ]
  },
  {
   "cell_type": "code",
   "execution_count": 16,
   "id": "0796f05f",
   "metadata": {},
   "outputs": [
    {
     "data": {
      "text/plain": [
       "0"
      ]
     },
     "execution_count": 16,
     "metadata": {},
     "output_type": "execute_result"
    }
   ],
   "source": [
    "bas.duplicated().sum()"
   ]
  },
  {
   "cell_type": "code",
   "execution_count": 17,
   "id": "dd72c7f5",
   "metadata": {},
   "outputs": [
    {
     "data": {
      "text/plain": [
       "tvEpisode       1070193\n",
       "short            577355\n",
       "movie            368540\n",
       "video            175646\n",
       "tvMovie           88559\n",
       "tvSeries          87005\n",
       "tvSpecial         16673\n",
       "tvMiniSeries      16207\n",
       "tvShort            9413\n",
       "videoGame           304\n",
       "Name: titleType, dtype: int64"
      ]
     },
     "execution_count": 17,
     "metadata": {},
     "output_type": "execute_result"
    }
   ],
   "source": [
    "bas['titleType'].value_counts()"
   ]
  },
  {
   "cell_type": "code",
   "execution_count": 18,
   "id": "6ce9db40",
   "metadata": {},
   "outputs": [
    {
     "data": {
      "text/html": [
       "<div>\n",
       "<style scoped>\n",
       "    .dataframe tbody tr th:only-of-type {\n",
       "        vertical-align: middle;\n",
       "    }\n",
       "\n",
       "    .dataframe tbody tr th {\n",
       "        vertical-align: top;\n",
       "    }\n",
       "\n",
       "    .dataframe thead th {\n",
       "        text-align: right;\n",
       "    }\n",
       "</style>\n",
       "<table border=\"1\" class=\"dataframe\">\n",
       "  <thead>\n",
       "    <tr style=\"text-align: right;\">\n",
       "      <th></th>\n",
       "      <th>tconst</th>\n",
       "      <th>titleType</th>\n",
       "      <th>primaryTitle</th>\n",
       "      <th>originalTitle</th>\n",
       "      <th>isAdult</th>\n",
       "      <th>startYear</th>\n",
       "      <th>endYear</th>\n",
       "      <th>runtimeMinutes</th>\n",
       "      <th>genres</th>\n",
       "    </tr>\n",
       "  </thead>\n",
       "  <tbody>\n",
       "    <tr>\n",
       "      <th>8</th>\n",
       "      <td>tt0000009</td>\n",
       "      <td>movie</td>\n",
       "      <td>Miss Jerry</td>\n",
       "      <td>Miss Jerry</td>\n",
       "      <td>0</td>\n",
       "      <td>1894</td>\n",
       "      <td>NaN</td>\n",
       "      <td>45</td>\n",
       "      <td>Romance</td>\n",
       "    </tr>\n",
       "    <tr>\n",
       "      <th>570</th>\n",
       "      <td>tt0000574</td>\n",
       "      <td>movie</td>\n",
       "      <td>The Story of the Kelly Gang</td>\n",
       "      <td>The Story of the Kelly Gang</td>\n",
       "      <td>0</td>\n",
       "      <td>1906</td>\n",
       "      <td>NaN</td>\n",
       "      <td>70</td>\n",
       "      <td>Action,Adventure,Biography</td>\n",
       "    </tr>\n",
       "    <tr>\n",
       "      <th>587</th>\n",
       "      <td>tt0000591</td>\n",
       "      <td>movie</td>\n",
       "      <td>The Prodigal Son</td>\n",
       "      <td>L'enfant prodigue</td>\n",
       "      <td>0</td>\n",
       "      <td>1907</td>\n",
       "      <td>NaN</td>\n",
       "      <td>90</td>\n",
       "      <td>Drama</td>\n",
       "    </tr>\n",
       "    <tr>\n",
       "      <th>672</th>\n",
       "      <td>tt0000679</td>\n",
       "      <td>movie</td>\n",
       "      <td>The Fairylogue and Radio-Plays</td>\n",
       "      <td>The Fairylogue and Radio-Plays</td>\n",
       "      <td>0</td>\n",
       "      <td>1908</td>\n",
       "      <td>NaN</td>\n",
       "      <td>120</td>\n",
       "      <td>Adventure,Fantasy</td>\n",
       "    </tr>\n",
       "    <tr>\n",
       "      <th>1172</th>\n",
       "      <td>tt0001184</td>\n",
       "      <td>movie</td>\n",
       "      <td>Don Juan de Serrallonga</td>\n",
       "      <td>Don Juan de Serrallonga</td>\n",
       "      <td>0</td>\n",
       "      <td>1910</td>\n",
       "      <td>NaN</td>\n",
       "      <td>58</td>\n",
       "      <td>Adventure,Drama</td>\n",
       "    </tr>\n",
       "    <tr>\n",
       "      <th>...</th>\n",
       "      <td>...</td>\n",
       "      <td>...</td>\n",
       "      <td>...</td>\n",
       "      <td>...</td>\n",
       "      <td>...</td>\n",
       "      <td>...</td>\n",
       "      <td>...</td>\n",
       "      <td>...</td>\n",
       "      <td>...</td>\n",
       "    </tr>\n",
       "    <tr>\n",
       "      <th>9248215</th>\n",
       "      <td>tt9916362</td>\n",
       "      <td>movie</td>\n",
       "      <td>Coven</td>\n",
       "      <td>Akelarre</td>\n",
       "      <td>0</td>\n",
       "      <td>2020</td>\n",
       "      <td>NaN</td>\n",
       "      <td>92</td>\n",
       "      <td>Drama,History</td>\n",
       "    </tr>\n",
       "    <tr>\n",
       "      <th>9248299</th>\n",
       "      <td>tt9916538</td>\n",
       "      <td>movie</td>\n",
       "      <td>Kuambil Lagi Hatiku</td>\n",
       "      <td>Kuambil Lagi Hatiku</td>\n",
       "      <td>0</td>\n",
       "      <td>2019</td>\n",
       "      <td>NaN</td>\n",
       "      <td>123</td>\n",
       "      <td>Drama</td>\n",
       "    </tr>\n",
       "    <tr>\n",
       "      <th>9248340</th>\n",
       "      <td>tt9916622</td>\n",
       "      <td>movie</td>\n",
       "      <td>Rodolpho Teóphilo - O Legado de um Pioneiro</td>\n",
       "      <td>Rodolpho Teóphilo - O Legado de um Pioneiro</td>\n",
       "      <td>0</td>\n",
       "      <td>2015</td>\n",
       "      <td>NaN</td>\n",
       "      <td>57</td>\n",
       "      <td>Documentary</td>\n",
       "    </tr>\n",
       "    <tr>\n",
       "      <th>9248367</th>\n",
       "      <td>tt9916680</td>\n",
       "      <td>movie</td>\n",
       "      <td>De la ilusión al desconcierto: cine colombiano...</td>\n",
       "      <td>De la ilusión al desconcierto: cine colombiano...</td>\n",
       "      <td>0</td>\n",
       "      <td>2007</td>\n",
       "      <td>NaN</td>\n",
       "      <td>100</td>\n",
       "      <td>Documentary</td>\n",
       "    </tr>\n",
       "    <tr>\n",
       "      <th>9248400</th>\n",
       "      <td>tt9916754</td>\n",
       "      <td>movie</td>\n",
       "      <td>Chico Albuquerque - Revelações</td>\n",
       "      <td>Chico Albuquerque - Revelações</td>\n",
       "      <td>0</td>\n",
       "      <td>2013</td>\n",
       "      <td>NaN</td>\n",
       "      <td>49</td>\n",
       "      <td>Documentary</td>\n",
       "    </tr>\n",
       "  </tbody>\n",
       "</table>\n",
       "<p>368540 rows × 9 columns</p>\n",
       "</div>"
      ],
      "text/plain": [
       "            tconst titleType  \\\n",
       "8        tt0000009     movie   \n",
       "570      tt0000574     movie   \n",
       "587      tt0000591     movie   \n",
       "672      tt0000679     movie   \n",
       "1172     tt0001184     movie   \n",
       "...            ...       ...   \n",
       "9248215  tt9916362     movie   \n",
       "9248299  tt9916538     movie   \n",
       "9248340  tt9916622     movie   \n",
       "9248367  tt9916680     movie   \n",
       "9248400  tt9916754     movie   \n",
       "\n",
       "                                              primaryTitle  \\\n",
       "8                                               Miss Jerry   \n",
       "570                            The Story of the Kelly Gang   \n",
       "587                                       The Prodigal Son   \n",
       "672                         The Fairylogue and Radio-Plays   \n",
       "1172                               Don Juan de Serrallonga   \n",
       "...                                                    ...   \n",
       "9248215                                              Coven   \n",
       "9248299                                Kuambil Lagi Hatiku   \n",
       "9248340        Rodolpho Teóphilo - O Legado de um Pioneiro   \n",
       "9248367  De la ilusión al desconcierto: cine colombiano...   \n",
       "9248400                     Chico Albuquerque - Revelações   \n",
       "\n",
       "                                             originalTitle isAdult startYear  \\\n",
       "8                                               Miss Jerry       0      1894   \n",
       "570                            The Story of the Kelly Gang       0      1906   \n",
       "587                                      L'enfant prodigue       0      1907   \n",
       "672                         The Fairylogue and Radio-Plays       0      1908   \n",
       "1172                               Don Juan de Serrallonga       0      1910   \n",
       "...                                                    ...     ...       ...   \n",
       "9248215                                           Akelarre       0      2020   \n",
       "9248299                                Kuambil Lagi Hatiku       0      2019   \n",
       "9248340        Rodolpho Teóphilo - O Legado de um Pioneiro       0      2015   \n",
       "9248367  De la ilusión al desconcierto: cine colombiano...       0      2007   \n",
       "9248400                     Chico Albuquerque - Revelações       0      2013   \n",
       "\n",
       "        endYear runtimeMinutes                      genres  \n",
       "8           NaN             45                     Romance  \n",
       "570         NaN             70  Action,Adventure,Biography  \n",
       "587         NaN             90                       Drama  \n",
       "672         NaN            120           Adventure,Fantasy  \n",
       "1172        NaN             58             Adventure,Drama  \n",
       "...         ...            ...                         ...  \n",
       "9248215     NaN             92               Drama,History  \n",
       "9248299     NaN            123                       Drama  \n",
       "9248340     NaN             57                 Documentary  \n",
       "9248367     NaN            100                 Documentary  \n",
       "9248400     NaN             49                 Documentary  \n",
       "\n",
       "[368540 rows x 9 columns]"
      ]
     },
     "execution_count": 18,
     "metadata": {},
     "output_type": "execute_result"
    }
   ],
   "source": [
    "bas[bas['titleType'].str.contains\n",
    "    ('tvEpisode|short|video|tvMovie|tvSeries|tvSpecial|tvMiniSeries|tvShort|videoGame')\n",
    "    ==False]"
   ]
  },
  {
   "cell_type": "code",
   "execution_count": 19,
   "id": "8709b442",
   "metadata": {},
   "outputs": [],
   "source": [
    "bas = bas[bas['titleType'].str.contains\n",
    "    ('tvEpisode|short|video|tvMovie|tvSeries|tvSpecial|tvMiniSeries|tvShort|videoGame')\n",
    "    ==False]"
   ]
  },
  {
   "cell_type": "code",
   "execution_count": 20,
   "id": "7714fa4d",
   "metadata": {},
   "outputs": [
    {
     "name": "stdout",
     "output_type": "stream",
     "text": [
      "<class 'pandas.core.frame.DataFrame'>\n",
      "Int64Index: 368540 entries, 8 to 9248400\n",
      "Data columns (total 9 columns):\n",
      " #   Column          Non-Null Count   Dtype \n",
      "---  ------          --------------   ----- \n",
      " 0   tconst          368540 non-null  object\n",
      " 1   titleType       368540 non-null  object\n",
      " 2   primaryTitle    368540 non-null  object\n",
      " 3   originalTitle   368540 non-null  object\n",
      " 4   isAdult         368540 non-null  object\n",
      " 5   startYear       362676 non-null  object\n",
      " 6   endYear         0 non-null       object\n",
      " 7   runtimeMinutes  368540 non-null  object\n",
      " 8   genres          368540 non-null  object\n",
      "dtypes: object(9)\n",
      "memory usage: 28.1+ MB\n"
     ]
    }
   ],
   "source": [
    "bas.info()"
   ]
  },
  {
   "cell_type": "code",
   "execution_count": 21,
   "id": "6ba49c4b",
   "metadata": {},
   "outputs": [
    {
     "data": {
      "text/plain": [
       "2017    14215\n",
       "2018    14158\n",
       "2016    13842\n",
       "2019    13825\n",
       "2015    13335\n",
       "        ...  \n",
       "2027        1\n",
       "1894        1\n",
       "1899        1\n",
       "1904        1\n",
       "1896        1\n",
       "Name: startYear, Length: 129, dtype: int64"
      ]
     },
     "execution_count": 21,
     "metadata": {},
     "output_type": "execute_result"
    }
   ],
   "source": [
    "bas['startYear'].value_counts()"
   ]
  },
  {
   "cell_type": "code",
   "execution_count": 22,
   "id": "c4f898ee",
   "metadata": {},
   "outputs": [],
   "source": [
    "bas.dropna(subset=['startYear'], inplace = True)"
   ]
  },
  {
   "cell_type": "code",
   "execution_count": 23,
   "id": "7c31d0ba",
   "metadata": {},
   "outputs": [],
   "source": [
    "bas['startYear'] = bas['startYear'].astype(int)"
   ]
  },
  {
   "cell_type": "code",
   "execution_count": 24,
   "id": "8222dbf3",
   "metadata": {},
   "outputs": [],
   "source": [
    "bas = bas[bas['startYear'] >= 2000]"
   ]
  },
  {
   "cell_type": "code",
   "execution_count": 25,
   "id": "1e386dea",
   "metadata": {},
   "outputs": [],
   "source": [
    "bas = bas[bas['startYear'] <= 2022]"
   ]
  },
  {
   "cell_type": "code",
   "execution_count": 26,
   "id": "70a2f318",
   "metadata": {},
   "outputs": [
    {
     "data": {
      "text/plain": [
       "2017    14215\n",
       "2018    14158\n",
       "2016    13842\n",
       "2019    13825\n",
       "2015    13335\n",
       "2014    12990\n",
       "2013    12282\n",
       "2021    11782\n",
       "2012    11545\n",
       "2020    11271\n",
       "2011    10686\n",
       "2010    10130\n",
       "2009     9279\n",
       "2022     8640\n",
       "2008     8075\n",
       "2007     6888\n",
       "2006     6436\n",
       "2005     5762\n",
       "2004     5138\n",
       "2003     4534\n",
       "2002     4091\n",
       "2001     3817\n",
       "2000     3596\n",
       "Name: startYear, dtype: int64"
      ]
     },
     "execution_count": 26,
     "metadata": {},
     "output_type": "execute_result"
    }
   ],
   "source": [
    "bas['startYear'].value_counts()"
   ]
  },
  {
   "cell_type": "code",
   "execution_count": 27,
   "id": "b2f90c0d",
   "metadata": {},
   "outputs": [],
   "source": [
    "bas['startYear'] = bas['startYear'].astype(object)"
   ]
  },
  {
   "cell_type": "code",
   "execution_count": 28,
   "id": "10111a33",
   "metadata": {},
   "outputs": [
    {
     "name": "stdout",
     "output_type": "stream",
     "text": [
      "<class 'pandas.core.frame.DataFrame'>\n",
      "Int64Index: 216317 entries, 13079 to 9248400\n",
      "Data columns (total 9 columns):\n",
      " #   Column          Non-Null Count   Dtype \n",
      "---  ------          --------------   ----- \n",
      " 0   tconst          216317 non-null  object\n",
      " 1   titleType       216317 non-null  object\n",
      " 2   primaryTitle    216317 non-null  object\n",
      " 3   originalTitle   216317 non-null  object\n",
      " 4   isAdult         216317 non-null  object\n",
      " 5   startYear       216317 non-null  object\n",
      " 6   endYear         0 non-null       object\n",
      " 7   runtimeMinutes  216317 non-null  object\n",
      " 8   genres          216317 non-null  object\n",
      "dtypes: object(9)\n",
      "memory usage: 16.5+ MB\n"
     ]
    }
   ],
   "source": [
    "bas.info()"
   ]
  },
  {
   "cell_type": "code",
   "execution_count": 29,
   "id": "c7aea6ff",
   "metadata": {},
   "outputs": [],
   "source": [
    "is_documentary = bas['genres'].str.contains('documentary',case=False)"
   ]
  },
  {
   "cell_type": "code",
   "execution_count": 30,
   "id": "4adf25e3",
   "metadata": {},
   "outputs": [],
   "source": [
    "bas = bas[~is_documentary]"
   ]
  },
  {
   "cell_type": "code",
   "execution_count": 31,
   "id": "7e44d0b2",
   "metadata": {},
   "outputs": [
    {
     "name": "stdout",
     "output_type": "stream",
     "text": [
      "<class 'pandas.core.frame.DataFrame'>\n",
      "RangeIndex: 33279797 entries, 0 to 33279796\n",
      "Data columns (total 8 columns):\n",
      " #   Column           Dtype \n",
      "---  ------           ----- \n",
      " 0   titleId          object\n",
      " 1   ordering         int64 \n",
      " 2   title            object\n",
      " 3   region           object\n",
      " 4   language         object\n",
      " 5   types            object\n",
      " 6   attributes       object\n",
      " 7   isOriginalTitle  object\n",
      "dtypes: int64(1), object(7)\n",
      "memory usage: 2.0+ GB\n"
     ]
    }
   ],
   "source": [
    "aka.info()"
   ]
  },
  {
   "cell_type": "code",
   "execution_count": 32,
   "id": "d541bc3f",
   "metadata": {},
   "outputs": [
    {
     "data": {
      "text/html": [
       "<div>\n",
       "<style scoped>\n",
       "    .dataframe tbody tr th:only-of-type {\n",
       "        vertical-align: middle;\n",
       "    }\n",
       "\n",
       "    .dataframe tbody tr th {\n",
       "        vertical-align: top;\n",
       "    }\n",
       "\n",
       "    .dataframe thead th {\n",
       "        text-align: right;\n",
       "    }\n",
       "</style>\n",
       "<table border=\"1\" class=\"dataframe\">\n",
       "  <thead>\n",
       "    <tr style=\"text-align: right;\">\n",
       "      <th></th>\n",
       "      <th>titleId</th>\n",
       "      <th>ordering</th>\n",
       "      <th>title</th>\n",
       "      <th>region</th>\n",
       "      <th>language</th>\n",
       "      <th>types</th>\n",
       "      <th>attributes</th>\n",
       "      <th>isOriginalTitle</th>\n",
       "    </tr>\n",
       "  </thead>\n",
       "  <tbody>\n",
       "    <tr>\n",
       "      <th>0</th>\n",
       "      <td>tt0000001</td>\n",
       "      <td>1</td>\n",
       "      <td>Карменсіта</td>\n",
       "      <td>UA</td>\n",
       "      <td>NaN</td>\n",
       "      <td>imdbDisplay</td>\n",
       "      <td>NaN</td>\n",
       "      <td>0</td>\n",
       "    </tr>\n",
       "    <tr>\n",
       "      <th>1</th>\n",
       "      <td>tt0000001</td>\n",
       "      <td>2</td>\n",
       "      <td>Carmencita</td>\n",
       "      <td>DE</td>\n",
       "      <td>NaN</td>\n",
       "      <td>NaN</td>\n",
       "      <td>literal title</td>\n",
       "      <td>0</td>\n",
       "    </tr>\n",
       "    <tr>\n",
       "      <th>2</th>\n",
       "      <td>tt0000001</td>\n",
       "      <td>3</td>\n",
       "      <td>Carmencita - spanyol tánc</td>\n",
       "      <td>HU</td>\n",
       "      <td>NaN</td>\n",
       "      <td>imdbDisplay</td>\n",
       "      <td>NaN</td>\n",
       "      <td>0</td>\n",
       "    </tr>\n",
       "    <tr>\n",
       "      <th>3</th>\n",
       "      <td>tt0000001</td>\n",
       "      <td>4</td>\n",
       "      <td>Καρμενσίτα</td>\n",
       "      <td>GR</td>\n",
       "      <td>NaN</td>\n",
       "      <td>imdbDisplay</td>\n",
       "      <td>NaN</td>\n",
       "      <td>0</td>\n",
       "    </tr>\n",
       "    <tr>\n",
       "      <th>4</th>\n",
       "      <td>tt0000001</td>\n",
       "      <td>5</td>\n",
       "      <td>Карменсита</td>\n",
       "      <td>RU</td>\n",
       "      <td>NaN</td>\n",
       "      <td>imdbDisplay</td>\n",
       "      <td>NaN</td>\n",
       "      <td>0</td>\n",
       "    </tr>\n",
       "  </tbody>\n",
       "</table>\n",
       "</div>"
      ],
      "text/plain": [
       "     titleId  ordering                      title region language  \\\n",
       "0  tt0000001         1                 Карменсіта     UA      NaN   \n",
       "1  tt0000001         2                 Carmencita     DE      NaN   \n",
       "2  tt0000001         3  Carmencita - spanyol tánc     HU      NaN   \n",
       "3  tt0000001         4                 Καρμενσίτα     GR      NaN   \n",
       "4  tt0000001         5                 Карменсита     RU      NaN   \n",
       "\n",
       "         types     attributes isOriginalTitle  \n",
       "0  imdbDisplay            NaN               0  \n",
       "1          NaN  literal title               0  \n",
       "2  imdbDisplay            NaN               0  \n",
       "3  imdbDisplay            NaN               0  \n",
       "4  imdbDisplay            NaN               0  "
      ]
     },
     "execution_count": 32,
     "metadata": {},
     "output_type": "execute_result"
    }
   ],
   "source": [
    "aka.head()"
   ]
  },
  {
   "cell_type": "code",
   "execution_count": 33,
   "id": "c1373cf8",
   "metadata": {},
   "outputs": [
    {
     "data": {
      "text/plain": [
       "0"
      ]
     },
     "execution_count": 33,
     "metadata": {},
     "output_type": "execute_result"
    }
   ],
   "source": [
    "aka.duplicated().sum()"
   ]
  },
  {
   "cell_type": "code",
   "execution_count": 34,
   "id": "32b337b0",
   "metadata": {},
   "outputs": [
    {
     "data": {
      "text/plain": [
       "titleId                   0\n",
       "ordering                  0\n",
       "title                     5\n",
       "region              1863557\n",
       "language            6270091\n",
       "types              27985091\n",
       "attributes         33032509\n",
       "isOriginalTitle        2187\n",
       "dtype: int64"
      ]
     },
     "execution_count": 34,
     "metadata": {},
     "output_type": "execute_result"
    }
   ],
   "source": [
    "aka.isna().sum()"
   ]
  },
  {
   "cell_type": "code",
   "execution_count": 35,
   "id": "655fca01",
   "metadata": {},
   "outputs": [
    {
     "data": {
      "text/plain": [
       "JP    3973861\n",
       "FR    3973067\n",
       "DE    3956365\n",
       "IN    3902969\n",
       "ES    3895981\n",
       "       ...   \n",
       "CC          1\n",
       "TV          1\n",
       "NU          1\n",
       "PW          1\n",
       "NR          1\n",
       "Name: region, Length: 247, dtype: int64"
      ]
     },
     "execution_count": 35,
     "metadata": {},
     "output_type": "execute_result"
    }
   ],
   "source": [
    "aka['region'].value_counts()"
   ]
  },
  {
   "cell_type": "code",
   "execution_count": 36,
   "id": "054b34a2",
   "metadata": {},
   "outputs": [
    {
     "data": {
      "text/html": [
       "<div>\n",
       "<style scoped>\n",
       "    .dataframe tbody tr th:only-of-type {\n",
       "        vertical-align: middle;\n",
       "    }\n",
       "\n",
       "    .dataframe tbody tr th {\n",
       "        vertical-align: top;\n",
       "    }\n",
       "\n",
       "    .dataframe thead th {\n",
       "        text-align: right;\n",
       "    }\n",
       "</style>\n",
       "<table border=\"1\" class=\"dataframe\">\n",
       "  <thead>\n",
       "    <tr style=\"text-align: right;\">\n",
       "      <th></th>\n",
       "      <th>titleId</th>\n",
       "      <th>ordering</th>\n",
       "      <th>title</th>\n",
       "      <th>region</th>\n",
       "      <th>language</th>\n",
       "      <th>types</th>\n",
       "      <th>attributes</th>\n",
       "      <th>isOriginalTitle</th>\n",
       "    </tr>\n",
       "  </thead>\n",
       "  <tbody>\n",
       "    <tr>\n",
       "      <th>5</th>\n",
       "      <td>tt0000001</td>\n",
       "      <td>6</td>\n",
       "      <td>Carmencita</td>\n",
       "      <td>US</td>\n",
       "      <td>NaN</td>\n",
       "      <td>imdbDisplay</td>\n",
       "      <td>NaN</td>\n",
       "      <td>0</td>\n",
       "    </tr>\n",
       "    <tr>\n",
       "      <th>14</th>\n",
       "      <td>tt0000002</td>\n",
       "      <td>7</td>\n",
       "      <td>The Clown and His Dogs</td>\n",
       "      <td>US</td>\n",
       "      <td>NaN</td>\n",
       "      <td>NaN</td>\n",
       "      <td>literal English title</td>\n",
       "      <td>0</td>\n",
       "    </tr>\n",
       "    <tr>\n",
       "      <th>33</th>\n",
       "      <td>tt0000005</td>\n",
       "      <td>10</td>\n",
       "      <td>Blacksmith Scene</td>\n",
       "      <td>US</td>\n",
       "      <td>NaN</td>\n",
       "      <td>imdbDisplay</td>\n",
       "      <td>NaN</td>\n",
       "      <td>0</td>\n",
       "    </tr>\n",
       "    <tr>\n",
       "      <th>36</th>\n",
       "      <td>tt0000005</td>\n",
       "      <td>1</td>\n",
       "      <td>Blacksmithing Scene</td>\n",
       "      <td>US</td>\n",
       "      <td>NaN</td>\n",
       "      <td>alternative</td>\n",
       "      <td>NaN</td>\n",
       "      <td>0</td>\n",
       "    </tr>\n",
       "    <tr>\n",
       "      <th>41</th>\n",
       "      <td>tt0000005</td>\n",
       "      <td>6</td>\n",
       "      <td>Blacksmith Scene #1</td>\n",
       "      <td>US</td>\n",
       "      <td>NaN</td>\n",
       "      <td>alternative</td>\n",
       "      <td>NaN</td>\n",
       "      <td>0</td>\n",
       "    </tr>\n",
       "    <tr>\n",
       "      <th>...</th>\n",
       "      <td>...</td>\n",
       "      <td>...</td>\n",
       "      <td>...</td>\n",
       "      <td>...</td>\n",
       "      <td>...</td>\n",
       "      <td>...</td>\n",
       "      <td>...</td>\n",
       "      <td>...</td>\n",
       "    </tr>\n",
       "    <tr>\n",
       "      <th>33279469</th>\n",
       "      <td>tt9916702</td>\n",
       "      <td>1</td>\n",
       "      <td>Loving London: The Playground</td>\n",
       "      <td>US</td>\n",
       "      <td>NaN</td>\n",
       "      <td>NaN</td>\n",
       "      <td>NaN</td>\n",
       "      <td>0</td>\n",
       "    </tr>\n",
       "    <tr>\n",
       "      <th>33279506</th>\n",
       "      <td>tt9916720</td>\n",
       "      <td>10</td>\n",
       "      <td>The Demonic Nun</td>\n",
       "      <td>US</td>\n",
       "      <td>NaN</td>\n",
       "      <td>tv</td>\n",
       "      <td>NaN</td>\n",
       "      <td>0</td>\n",
       "    </tr>\n",
       "    <tr>\n",
       "      <th>33279508</th>\n",
       "      <td>tt9916720</td>\n",
       "      <td>12</td>\n",
       "      <td>The Nun 2</td>\n",
       "      <td>US</td>\n",
       "      <td>NaN</td>\n",
       "      <td>imdbDisplay</td>\n",
       "      <td>NaN</td>\n",
       "      <td>0</td>\n",
       "    </tr>\n",
       "    <tr>\n",
       "      <th>33279525</th>\n",
       "      <td>tt9916756</td>\n",
       "      <td>1</td>\n",
       "      <td>Pretty Pretty Black Girl</td>\n",
       "      <td>US</td>\n",
       "      <td>NaN</td>\n",
       "      <td>imdbDisplay</td>\n",
       "      <td>NaN</td>\n",
       "      <td>0</td>\n",
       "    </tr>\n",
       "    <tr>\n",
       "      <th>33279541</th>\n",
       "      <td>tt9916764</td>\n",
       "      <td>1</td>\n",
       "      <td>38</td>\n",
       "      <td>US</td>\n",
       "      <td>NaN</td>\n",
       "      <td>imdbDisplay</td>\n",
       "      <td>NaN</td>\n",
       "      <td>0</td>\n",
       "    </tr>\n",
       "  </tbody>\n",
       "</table>\n",
       "<p>1353217 rows × 8 columns</p>\n",
       "</div>"
      ],
      "text/plain": [
       "            titleId  ordering                          title region language  \\\n",
       "5         tt0000001         6                     Carmencita     US      NaN   \n",
       "14        tt0000002         7         The Clown and His Dogs     US      NaN   \n",
       "33        tt0000005        10               Blacksmith Scene     US      NaN   \n",
       "36        tt0000005         1            Blacksmithing Scene     US      NaN   \n",
       "41        tt0000005         6            Blacksmith Scene #1     US      NaN   \n",
       "...             ...       ...                            ...    ...      ...   \n",
       "33279469  tt9916702         1  Loving London: The Playground     US      NaN   \n",
       "33279506  tt9916720        10                The Demonic Nun     US      NaN   \n",
       "33279508  tt9916720        12                      The Nun 2     US      NaN   \n",
       "33279525  tt9916756         1       Pretty Pretty Black Girl     US      NaN   \n",
       "33279541  tt9916764         1                             38     US      NaN   \n",
       "\n",
       "                types             attributes isOriginalTitle  \n",
       "5         imdbDisplay                    NaN               0  \n",
       "14                NaN  literal English title               0  \n",
       "33        imdbDisplay                    NaN               0  \n",
       "36        alternative                    NaN               0  \n",
       "41        alternative                    NaN               0  \n",
       "...               ...                    ...             ...  \n",
       "33279469          NaN                    NaN               0  \n",
       "33279506           tv                    NaN               0  \n",
       "33279508  imdbDisplay                    NaN               0  \n",
       "33279525  imdbDisplay                    NaN               0  \n",
       "33279541  imdbDisplay                    NaN               0  \n",
       "\n",
       "[1353217 rows x 8 columns]"
      ]
     },
     "execution_count": 36,
     "metadata": {},
     "output_type": "execute_result"
    }
   ],
   "source": [
    "aka[aka['region'].str.contains('US') == True]"
   ]
  },
  {
   "cell_type": "code",
   "execution_count": 37,
   "id": "07fe6a90",
   "metadata": {},
   "outputs": [],
   "source": [
    "aka = aka[aka['region'].str.contains('US') == True]"
   ]
  },
  {
   "cell_type": "code",
   "execution_count": 38,
   "id": "46b3a6db",
   "metadata": {},
   "outputs": [
    {
     "data": {
      "text/plain": [
       "US    1353217\n",
       "Name: region, dtype: int64"
      ]
     },
     "execution_count": 38,
     "metadata": {},
     "output_type": "execute_result"
    }
   ],
   "source": [
    "aka['region'].value_counts()"
   ]
  },
  {
   "cell_type": "code",
   "execution_count": 39,
   "id": "e14030a0",
   "metadata": {},
   "outputs": [
    {
     "data": {
      "text/html": [
       "<div>\n",
       "<style scoped>\n",
       "    .dataframe tbody tr th:only-of-type {\n",
       "        vertical-align: middle;\n",
       "    }\n",
       "\n",
       "    .dataframe tbody tr th {\n",
       "        vertical-align: top;\n",
       "    }\n",
       "\n",
       "    .dataframe thead th {\n",
       "        text-align: right;\n",
       "    }\n",
       "</style>\n",
       "<table border=\"1\" class=\"dataframe\">\n",
       "  <thead>\n",
       "    <tr style=\"text-align: right;\">\n",
       "      <th></th>\n",
       "      <th>titleId</th>\n",
       "      <th>ordering</th>\n",
       "      <th>title</th>\n",
       "      <th>region</th>\n",
       "      <th>language</th>\n",
       "      <th>types</th>\n",
       "      <th>attributes</th>\n",
       "      <th>isOriginalTitle</th>\n",
       "    </tr>\n",
       "  </thead>\n",
       "  <tbody>\n",
       "    <tr>\n",
       "      <th>5</th>\n",
       "      <td>tt0000001</td>\n",
       "      <td>6</td>\n",
       "      <td>Carmencita</td>\n",
       "      <td>US</td>\n",
       "      <td>NaN</td>\n",
       "      <td>imdbDisplay</td>\n",
       "      <td>NaN</td>\n",
       "      <td>0</td>\n",
       "    </tr>\n",
       "    <tr>\n",
       "      <th>14</th>\n",
       "      <td>tt0000002</td>\n",
       "      <td>7</td>\n",
       "      <td>The Clown and His Dogs</td>\n",
       "      <td>US</td>\n",
       "      <td>NaN</td>\n",
       "      <td>NaN</td>\n",
       "      <td>literal English title</td>\n",
       "      <td>0</td>\n",
       "    </tr>\n",
       "    <tr>\n",
       "      <th>33</th>\n",
       "      <td>tt0000005</td>\n",
       "      <td>10</td>\n",
       "      <td>Blacksmith Scene</td>\n",
       "      <td>US</td>\n",
       "      <td>NaN</td>\n",
       "      <td>imdbDisplay</td>\n",
       "      <td>NaN</td>\n",
       "      <td>0</td>\n",
       "    </tr>\n",
       "    <tr>\n",
       "      <th>36</th>\n",
       "      <td>tt0000005</td>\n",
       "      <td>1</td>\n",
       "      <td>Blacksmithing Scene</td>\n",
       "      <td>US</td>\n",
       "      <td>NaN</td>\n",
       "      <td>alternative</td>\n",
       "      <td>NaN</td>\n",
       "      <td>0</td>\n",
       "    </tr>\n",
       "    <tr>\n",
       "      <th>41</th>\n",
       "      <td>tt0000005</td>\n",
       "      <td>6</td>\n",
       "      <td>Blacksmith Scene #1</td>\n",
       "      <td>US</td>\n",
       "      <td>NaN</td>\n",
       "      <td>alternative</td>\n",
       "      <td>NaN</td>\n",
       "      <td>0</td>\n",
       "    </tr>\n",
       "  </tbody>\n",
       "</table>\n",
       "</div>"
      ],
      "text/plain": [
       "      titleId  ordering                   title region language        types  \\\n",
       "5   tt0000001         6              Carmencita     US      NaN  imdbDisplay   \n",
       "14  tt0000002         7  The Clown and His Dogs     US      NaN          NaN   \n",
       "33  tt0000005        10        Blacksmith Scene     US      NaN  imdbDisplay   \n",
       "36  tt0000005         1     Blacksmithing Scene     US      NaN  alternative   \n",
       "41  tt0000005         6     Blacksmith Scene #1     US      NaN  alternative   \n",
       "\n",
       "               attributes isOriginalTitle  \n",
       "5                     NaN               0  \n",
       "14  literal English title               0  \n",
       "33                    NaN               0  \n",
       "36                    NaN               0  \n",
       "41                    NaN               0  "
      ]
     },
     "execution_count": 39,
     "metadata": {},
     "output_type": "execute_result"
    }
   ],
   "source": [
    "aka.head()"
   ]
  },
  {
   "cell_type": "code",
   "execution_count": 40,
   "id": "85777ad0",
   "metadata": {},
   "outputs": [
    {
     "name": "stdout",
     "output_type": "stream",
     "text": [
      "<class 'pandas.core.frame.DataFrame'>\n",
      "Int64Index: 1353217 entries, 5 to 33279541\n",
      "Data columns (total 8 columns):\n",
      " #   Column           Non-Null Count    Dtype \n",
      "---  ------           --------------    ----- \n",
      " 0   titleId          1353217 non-null  object\n",
      " 1   ordering         1353217 non-null  int64 \n",
      " 2   title            1353217 non-null  object\n",
      " 3   region           1353217 non-null  object\n",
      " 4   language         3706 non-null     object\n",
      " 5   types            964299 non-null   object\n",
      " 6   attributes       45059 non-null    object\n",
      " 7   isOriginalTitle  1351842 non-null  object\n",
      "dtypes: int64(1), object(7)\n",
      "memory usage: 92.9+ MB\n"
     ]
    }
   ],
   "source": [
    "aka.info()"
   ]
  },
  {
   "cell_type": "code",
   "execution_count": 41,
   "id": "b9d1c399",
   "metadata": {},
   "outputs": [
    {
     "data": {
      "text/plain": [
       "34792       True\n",
       "61094       True\n",
       "67640       True\n",
       "77934      False\n",
       "86771       True\n",
       "           ...  \n",
       "9248122     True\n",
       "9248131     True\n",
       "9248170    False\n",
       "9248215     True\n",
       "9248299    False\n",
       "Name: tconst, Length: 143249, dtype: bool"
      ]
     },
     "execution_count": 41,
     "metadata": {},
     "output_type": "execute_result"
    }
   ],
   "source": [
    "keep = bas['tconst'].isin(aka['titleId'])\n",
    "keep"
   ]
  },
  {
   "cell_type": "code",
   "execution_count": 42,
   "id": "d9b5cf15",
   "metadata": {},
   "outputs": [
    {
     "data": {
      "text/html": [
       "<div>\n",
       "<style scoped>\n",
       "    .dataframe tbody tr th:only-of-type {\n",
       "        vertical-align: middle;\n",
       "    }\n",
       "\n",
       "    .dataframe tbody tr th {\n",
       "        vertical-align: top;\n",
       "    }\n",
       "\n",
       "    .dataframe thead th {\n",
       "        text-align: right;\n",
       "    }\n",
       "</style>\n",
       "<table border=\"1\" class=\"dataframe\">\n",
       "  <thead>\n",
       "    <tr style=\"text-align: right;\">\n",
       "      <th></th>\n",
       "      <th>tconst</th>\n",
       "      <th>titleType</th>\n",
       "      <th>primaryTitle</th>\n",
       "      <th>originalTitle</th>\n",
       "      <th>isAdult</th>\n",
       "      <th>startYear</th>\n",
       "      <th>endYear</th>\n",
       "      <th>runtimeMinutes</th>\n",
       "      <th>genres</th>\n",
       "    </tr>\n",
       "  </thead>\n",
       "  <tbody>\n",
       "    <tr>\n",
       "      <th>34792</th>\n",
       "      <td>tt0035423</td>\n",
       "      <td>movie</td>\n",
       "      <td>Kate &amp; Leopold</td>\n",
       "      <td>Kate &amp; Leopold</td>\n",
       "      <td>0</td>\n",
       "      <td>2001</td>\n",
       "      <td>NaN</td>\n",
       "      <td>118</td>\n",
       "      <td>Comedy,Fantasy,Romance</td>\n",
       "    </tr>\n",
       "    <tr>\n",
       "      <th>61094</th>\n",
       "      <td>tt0062336</td>\n",
       "      <td>movie</td>\n",
       "      <td>The Tango of the Widower and Its Distorting Mi...</td>\n",
       "      <td>El Tango del Viudo y Su Espejo Deformante</td>\n",
       "      <td>0</td>\n",
       "      <td>2020</td>\n",
       "      <td>NaN</td>\n",
       "      <td>70</td>\n",
       "      <td>Drama</td>\n",
       "    </tr>\n",
       "    <tr>\n",
       "      <th>67640</th>\n",
       "      <td>tt0069049</td>\n",
       "      <td>movie</td>\n",
       "      <td>The Other Side of the Wind</td>\n",
       "      <td>The Other Side of the Wind</td>\n",
       "      <td>0</td>\n",
       "      <td>2018</td>\n",
       "      <td>NaN</td>\n",
       "      <td>122</td>\n",
       "      <td>Drama</td>\n",
       "    </tr>\n",
       "    <tr>\n",
       "      <th>86771</th>\n",
       "      <td>tt0088751</td>\n",
       "      <td>movie</td>\n",
       "      <td>The Naked Monster</td>\n",
       "      <td>The Naked Monster</td>\n",
       "      <td>0</td>\n",
       "      <td>2005</td>\n",
       "      <td>NaN</td>\n",
       "      <td>100</td>\n",
       "      <td>Comedy,Horror,Sci-Fi</td>\n",
       "    </tr>\n",
       "    <tr>\n",
       "      <th>93907</th>\n",
       "      <td>tt0096056</td>\n",
       "      <td>movie</td>\n",
       "      <td>Crime and Punishment</td>\n",
       "      <td>Crime and Punishment</td>\n",
       "      <td>0</td>\n",
       "      <td>2002</td>\n",
       "      <td>NaN</td>\n",
       "      <td>126</td>\n",
       "      <td>Drama</td>\n",
       "    </tr>\n",
       "  </tbody>\n",
       "</table>\n",
       "</div>"
      ],
      "text/plain": [
       "          tconst titleType                                       primaryTitle  \\\n",
       "34792  tt0035423     movie                                     Kate & Leopold   \n",
       "61094  tt0062336     movie  The Tango of the Widower and Its Distorting Mi...   \n",
       "67640  tt0069049     movie                         The Other Side of the Wind   \n",
       "86771  tt0088751     movie                                  The Naked Monster   \n",
       "93907  tt0096056     movie                               Crime and Punishment   \n",
       "\n",
       "                                   originalTitle isAdult startYear endYear  \\\n",
       "34792                             Kate & Leopold       0      2001     NaN   \n",
       "61094  El Tango del Viudo y Su Espejo Deformante       0      2020     NaN   \n",
       "67640                 The Other Side of the Wind       0      2018     NaN   \n",
       "86771                          The Naked Monster       0      2005     NaN   \n",
       "93907                       Crime and Punishment       0      2002     NaN   \n",
       "\n",
       "      runtimeMinutes                  genres  \n",
       "34792            118  Comedy,Fantasy,Romance  \n",
       "61094             70                   Drama  \n",
       "67640            122                   Drama  \n",
       "86771            100    Comedy,Horror,Sci-Fi  \n",
       "93907            126                   Drama  "
      ]
     },
     "execution_count": 42,
     "metadata": {},
     "output_type": "execute_result"
    }
   ],
   "source": [
    "bas = bas[keep]\n",
    "bas.head()"
   ]
  },
  {
   "cell_type": "code",
   "execution_count": 43,
   "id": "cccc5651",
   "metadata": {},
   "outputs": [
    {
     "name": "stdout",
     "output_type": "stream",
     "text": [
      "<class 'pandas.core.frame.DataFrame'>\n",
      "RangeIndex: 1261717 entries, 0 to 1261716\n",
      "Data columns (total 3 columns):\n",
      " #   Column         Non-Null Count    Dtype  \n",
      "---  ------         --------------    -----  \n",
      " 0   tconst         1261717 non-null  object \n",
      " 1   averageRating  1261717 non-null  float64\n",
      " 2   numVotes       1261717 non-null  int64  \n",
      "dtypes: float64(1), int64(1), object(1)\n",
      "memory usage: 28.9+ MB\n"
     ]
    }
   ],
   "source": [
    "rat.info()"
   ]
  },
  {
   "cell_type": "code",
   "execution_count": 44,
   "id": "ccb30b69",
   "metadata": {},
   "outputs": [
    {
     "data": {
      "text/html": [
       "<div>\n",
       "<style scoped>\n",
       "    .dataframe tbody tr th:only-of-type {\n",
       "        vertical-align: middle;\n",
       "    }\n",
       "\n",
       "    .dataframe tbody tr th {\n",
       "        vertical-align: top;\n",
       "    }\n",
       "\n",
       "    .dataframe thead th {\n",
       "        text-align: right;\n",
       "    }\n",
       "</style>\n",
       "<table border=\"1\" class=\"dataframe\">\n",
       "  <thead>\n",
       "    <tr style=\"text-align: right;\">\n",
       "      <th></th>\n",
       "      <th>tconst</th>\n",
       "      <th>averageRating</th>\n",
       "      <th>numVotes</th>\n",
       "    </tr>\n",
       "  </thead>\n",
       "  <tbody>\n",
       "    <tr>\n",
       "      <th>0</th>\n",
       "      <td>tt0000001</td>\n",
       "      <td>5.7</td>\n",
       "      <td>1910</td>\n",
       "    </tr>\n",
       "    <tr>\n",
       "      <th>1</th>\n",
       "      <td>tt0000002</td>\n",
       "      <td>5.8</td>\n",
       "      <td>257</td>\n",
       "    </tr>\n",
       "    <tr>\n",
       "      <th>2</th>\n",
       "      <td>tt0000003</td>\n",
       "      <td>6.5</td>\n",
       "      <td>1715</td>\n",
       "    </tr>\n",
       "    <tr>\n",
       "      <th>3</th>\n",
       "      <td>tt0000004</td>\n",
       "      <td>5.6</td>\n",
       "      <td>169</td>\n",
       "    </tr>\n",
       "    <tr>\n",
       "      <th>4</th>\n",
       "      <td>tt0000005</td>\n",
       "      <td>6.2</td>\n",
       "      <td>2530</td>\n",
       "    </tr>\n",
       "  </tbody>\n",
       "</table>\n",
       "</div>"
      ],
      "text/plain": [
       "      tconst  averageRating  numVotes\n",
       "0  tt0000001            5.7      1910\n",
       "1  tt0000002            5.8       257\n",
       "2  tt0000003            6.5      1715\n",
       "3  tt0000004            5.6       169\n",
       "4  tt0000005            6.2      2530"
      ]
     },
     "execution_count": 44,
     "metadata": {},
     "output_type": "execute_result"
    }
   ],
   "source": [
    "rat.head()"
   ]
  },
  {
   "cell_type": "code",
   "execution_count": 45,
   "id": "2e189bf0",
   "metadata": {},
   "outputs": [
    {
     "data": {
      "text/plain": [
       "0"
      ]
     },
     "execution_count": 45,
     "metadata": {},
     "output_type": "execute_result"
    }
   ],
   "source": [
    "rat.duplicated().sum()"
   ]
  },
  {
   "cell_type": "code",
   "execution_count": 46,
   "id": "ccfef4f4",
   "metadata": {},
   "outputs": [
    {
     "data": {
      "text/plain": [
       "tconst           0\n",
       "averageRating    0\n",
       "numVotes         0\n",
       "dtype: int64"
      ]
     },
     "execution_count": 46,
     "metadata": {},
     "output_type": "execute_result"
    }
   ],
   "source": [
    "rat.isna().sum()"
   ]
  },
  {
   "cell_type": "code",
   "execution_count": 47,
   "id": "37f0109d",
   "metadata": {},
   "outputs": [
    {
     "data": {
      "text/plain": [
       "0           True\n",
       "1           True\n",
       "2          False\n",
       "3          False\n",
       "4           True\n",
       "           ...  \n",
       "1261712    False\n",
       "1261713     True\n",
       "1261714    False\n",
       "1261715    False\n",
       "1261716    False\n",
       "Name: tconst, Length: 1261717, dtype: bool"
      ]
     },
     "execution_count": 47,
     "metadata": {},
     "output_type": "execute_result"
    }
   ],
   "source": [
    "keepII = rat['tconst'].isin(aka['titleId'])\n",
    "keepII"
   ]
  },
  {
   "cell_type": "code",
   "execution_count": 48,
   "id": "670051dc",
   "metadata": {},
   "outputs": [
    {
     "data": {
      "text/html": [
       "<div>\n",
       "<style scoped>\n",
       "    .dataframe tbody tr th:only-of-type {\n",
       "        vertical-align: middle;\n",
       "    }\n",
       "\n",
       "    .dataframe tbody tr th {\n",
       "        vertical-align: top;\n",
       "    }\n",
       "\n",
       "    .dataframe thead th {\n",
       "        text-align: right;\n",
       "    }\n",
       "</style>\n",
       "<table border=\"1\" class=\"dataframe\">\n",
       "  <thead>\n",
       "    <tr style=\"text-align: right;\">\n",
       "      <th></th>\n",
       "      <th>tconst</th>\n",
       "      <th>averageRating</th>\n",
       "      <th>numVotes</th>\n",
       "    </tr>\n",
       "  </thead>\n",
       "  <tbody>\n",
       "    <tr>\n",
       "      <th>0</th>\n",
       "      <td>tt0000001</td>\n",
       "      <td>5.7</td>\n",
       "      <td>1910</td>\n",
       "    </tr>\n",
       "    <tr>\n",
       "      <th>1</th>\n",
       "      <td>tt0000002</td>\n",
       "      <td>5.8</td>\n",
       "      <td>257</td>\n",
       "    </tr>\n",
       "    <tr>\n",
       "      <th>4</th>\n",
       "      <td>tt0000005</td>\n",
       "      <td>6.2</td>\n",
       "      <td>2530</td>\n",
       "    </tr>\n",
       "    <tr>\n",
       "      <th>5</th>\n",
       "      <td>tt0000006</td>\n",
       "      <td>5.1</td>\n",
       "      <td>173</td>\n",
       "    </tr>\n",
       "    <tr>\n",
       "      <th>6</th>\n",
       "      <td>tt0000007</td>\n",
       "      <td>5.4</td>\n",
       "      <td>789</td>\n",
       "    </tr>\n",
       "  </tbody>\n",
       "</table>\n",
       "</div>"
      ],
      "text/plain": [
       "      tconst  averageRating  numVotes\n",
       "0  tt0000001            5.7      1910\n",
       "1  tt0000002            5.8       257\n",
       "4  tt0000005            6.2      2530\n",
       "5  tt0000006            5.1       173\n",
       "6  tt0000007            5.4       789"
      ]
     },
     "execution_count": 48,
     "metadata": {},
     "output_type": "execute_result"
    }
   ],
   "source": [
    "rat = rat[keepII]\n",
    "rat.head()"
   ]
  },
  {
   "cell_type": "code",
   "execution_count": 49,
   "id": "78cbff76",
   "metadata": {},
   "outputs": [
    {
     "name": "stdout",
     "output_type": "stream",
     "text": [
      "<class 'pandas.core.frame.DataFrame'>\n",
      "Int64Index: 82670 entries, 34792 to 9248215\n",
      "Data columns (total 9 columns):\n",
      " #   Column          Non-Null Count  Dtype \n",
      "---  ------          --------------  ----- \n",
      " 0   tconst          82670 non-null  object\n",
      " 1   titleType       82670 non-null  object\n",
      " 2   primaryTitle    82670 non-null  object\n",
      " 3   originalTitle   82670 non-null  object\n",
      " 4   isAdult         82670 non-null  object\n",
      " 5   startYear       82670 non-null  object\n",
      " 6   endYear         0 non-null      object\n",
      " 7   runtimeMinutes  82670 non-null  object\n",
      " 8   genres          82670 non-null  object\n",
      "dtypes: object(9)\n",
      "memory usage: 6.3+ MB\n"
     ]
    }
   ],
   "source": [
    "bas.info()"
   ]
  },
  {
   "cell_type": "code",
   "execution_count": 50,
   "id": "21210d10",
   "metadata": {},
   "outputs": [
    {
     "name": "stdout",
     "output_type": "stream",
     "text": [
      "<class 'pandas.core.frame.DataFrame'>\n",
      "Int64Index: 1353217 entries, 5 to 33279541\n",
      "Data columns (total 8 columns):\n",
      " #   Column           Non-Null Count    Dtype \n",
      "---  ------           --------------    ----- \n",
      " 0   titleId          1353217 non-null  object\n",
      " 1   ordering         1353217 non-null  int64 \n",
      " 2   title            1353217 non-null  object\n",
      " 3   region           1353217 non-null  object\n",
      " 4   language         3706 non-null     object\n",
      " 5   types            964299 non-null   object\n",
      " 6   attributes       45059 non-null    object\n",
      " 7   isOriginalTitle  1351842 non-null  object\n",
      "dtypes: int64(1), object(7)\n",
      "memory usage: 92.9+ MB\n"
     ]
    }
   ],
   "source": [
    "aka.info()"
   ]
  },
  {
   "cell_type": "code",
   "execution_count": 51,
   "id": "ac25a531",
   "metadata": {},
   "outputs": [
    {
     "name": "stdout",
     "output_type": "stream",
     "text": [
      "<class 'pandas.core.frame.DataFrame'>\n",
      "Int64Index: 477289 entries, 0 to 1261713\n",
      "Data columns (total 3 columns):\n",
      " #   Column         Non-Null Count   Dtype  \n",
      "---  ------         --------------   -----  \n",
      " 0   tconst         477289 non-null  object \n",
      " 1   averageRating  477289 non-null  float64\n",
      " 2   numVotes       477289 non-null  int64  \n",
      "dtypes: float64(1), int64(1), object(1)\n",
      "memory usage: 14.6+ MB\n"
     ]
    }
   ],
   "source": [
    "rat.info()"
   ]
  },
  {
   "cell_type": "code",
   "execution_count": 52,
   "id": "5412e712",
   "metadata": {},
   "outputs": [
    {
     "data": {
      "text/plain": [
       "['.ipynb_checkpoints',\n",
       " 'title_akas.csv.gz',\n",
       " 'title_basics.csv.gz',\n",
       " 'title_ratings.csv.gz']"
      ]
     },
     "execution_count": 52,
     "metadata": {},
     "output_type": "execute_result"
    }
   ],
   "source": [
    "import os\n",
    "os.makedirs('Data/',exist_ok=True) \n",
    "\n",
    "os.listdir(\"Data/\")"
   ]
  },
  {
   "cell_type": "code",
   "execution_count": 53,
   "id": "6a3e2df6",
   "metadata": {},
   "outputs": [],
   "source": [
    "bas.to_csv(\"Data/title_basics.csv.gz\",compression='gzip',index=False)"
   ]
  },
  {
   "cell_type": "code",
   "execution_count": 54,
   "id": "40282f79",
   "metadata": {},
   "outputs": [
    {
     "data": {
      "text/html": [
       "<div>\n",
       "<style scoped>\n",
       "    .dataframe tbody tr th:only-of-type {\n",
       "        vertical-align: middle;\n",
       "    }\n",
       "\n",
       "    .dataframe tbody tr th {\n",
       "        vertical-align: top;\n",
       "    }\n",
       "\n",
       "    .dataframe thead th {\n",
       "        text-align: right;\n",
       "    }\n",
       "</style>\n",
       "<table border=\"1\" class=\"dataframe\">\n",
       "  <thead>\n",
       "    <tr style=\"text-align: right;\">\n",
       "      <th></th>\n",
       "      <th>tconst</th>\n",
       "      <th>titleType</th>\n",
       "      <th>primaryTitle</th>\n",
       "      <th>originalTitle</th>\n",
       "      <th>isAdult</th>\n",
       "      <th>startYear</th>\n",
       "      <th>endYear</th>\n",
       "      <th>runtimeMinutes</th>\n",
       "      <th>genres</th>\n",
       "    </tr>\n",
       "  </thead>\n",
       "  <tbody>\n",
       "    <tr>\n",
       "      <th>0</th>\n",
       "      <td>tt0035423</td>\n",
       "      <td>movie</td>\n",
       "      <td>Kate &amp; Leopold</td>\n",
       "      <td>Kate &amp; Leopold</td>\n",
       "      <td>0</td>\n",
       "      <td>2001</td>\n",
       "      <td>NaN</td>\n",
       "      <td>118</td>\n",
       "      <td>Comedy,Fantasy,Romance</td>\n",
       "    </tr>\n",
       "    <tr>\n",
       "      <th>1</th>\n",
       "      <td>tt0062336</td>\n",
       "      <td>movie</td>\n",
       "      <td>The Tango of the Widower and Its Distorting Mi...</td>\n",
       "      <td>El Tango del Viudo y Su Espejo Deformante</td>\n",
       "      <td>0</td>\n",
       "      <td>2020</td>\n",
       "      <td>NaN</td>\n",
       "      <td>70</td>\n",
       "      <td>Drama</td>\n",
       "    </tr>\n",
       "    <tr>\n",
       "      <th>2</th>\n",
       "      <td>tt0069049</td>\n",
       "      <td>movie</td>\n",
       "      <td>The Other Side of the Wind</td>\n",
       "      <td>The Other Side of the Wind</td>\n",
       "      <td>0</td>\n",
       "      <td>2018</td>\n",
       "      <td>NaN</td>\n",
       "      <td>122</td>\n",
       "      <td>Drama</td>\n",
       "    </tr>\n",
       "    <tr>\n",
       "      <th>3</th>\n",
       "      <td>tt0088751</td>\n",
       "      <td>movie</td>\n",
       "      <td>The Naked Monster</td>\n",
       "      <td>The Naked Monster</td>\n",
       "      <td>0</td>\n",
       "      <td>2005</td>\n",
       "      <td>NaN</td>\n",
       "      <td>100</td>\n",
       "      <td>Comedy,Horror,Sci-Fi</td>\n",
       "    </tr>\n",
       "    <tr>\n",
       "      <th>4</th>\n",
       "      <td>tt0096056</td>\n",
       "      <td>movie</td>\n",
       "      <td>Crime and Punishment</td>\n",
       "      <td>Crime and Punishment</td>\n",
       "      <td>0</td>\n",
       "      <td>2002</td>\n",
       "      <td>NaN</td>\n",
       "      <td>126</td>\n",
       "      <td>Drama</td>\n",
       "    </tr>\n",
       "  </tbody>\n",
       "</table>\n",
       "</div>"
      ],
      "text/plain": [
       "      tconst titleType                                       primaryTitle  \\\n",
       "0  tt0035423     movie                                     Kate & Leopold   \n",
       "1  tt0062336     movie  The Tango of the Widower and Its Distorting Mi...   \n",
       "2  tt0069049     movie                         The Other Side of the Wind   \n",
       "3  tt0088751     movie                                  The Naked Monster   \n",
       "4  tt0096056     movie                               Crime and Punishment   \n",
       "\n",
       "                               originalTitle  isAdult  startYear  endYear  \\\n",
       "0                             Kate & Leopold        0       2001      NaN   \n",
       "1  El Tango del Viudo y Su Espejo Deformante        0       2020      NaN   \n",
       "2                 The Other Side of the Wind        0       2018      NaN   \n",
       "3                          The Naked Monster        0       2005      NaN   \n",
       "4                       Crime and Punishment        0       2002      NaN   \n",
       "\n",
       "   runtimeMinutes                  genres  \n",
       "0             118  Comedy,Fantasy,Romance  \n",
       "1              70                   Drama  \n",
       "2             122                   Drama  \n",
       "3             100    Comedy,Horror,Sci-Fi  \n",
       "4             126                   Drama  "
      ]
     },
     "execution_count": 54,
     "metadata": {},
     "output_type": "execute_result"
    }
   ],
   "source": [
    "bas = pd.read_csv(\"Data/title_basics.csv.gz\", low_memory = False)\n",
    "bas.head()"
   ]
  },
  {
   "cell_type": "code",
   "execution_count": 55,
   "id": "a06b7b58",
   "metadata": {},
   "outputs": [],
   "source": [
    "aka.to_csv(\"Data/title_akas.csv.gz\",compression='gzip',index=False)"
   ]
  },
  {
   "cell_type": "code",
   "execution_count": 56,
   "id": "a13f5f96",
   "metadata": {},
   "outputs": [
    {
     "data": {
      "text/html": [
       "<div>\n",
       "<style scoped>\n",
       "    .dataframe tbody tr th:only-of-type {\n",
       "        vertical-align: middle;\n",
       "    }\n",
       "\n",
       "    .dataframe tbody tr th {\n",
       "        vertical-align: top;\n",
       "    }\n",
       "\n",
       "    .dataframe thead th {\n",
       "        text-align: right;\n",
       "    }\n",
       "</style>\n",
       "<table border=\"1\" class=\"dataframe\">\n",
       "  <thead>\n",
       "    <tr style=\"text-align: right;\">\n",
       "      <th></th>\n",
       "      <th>titleId</th>\n",
       "      <th>ordering</th>\n",
       "      <th>title</th>\n",
       "      <th>region</th>\n",
       "      <th>language</th>\n",
       "      <th>types</th>\n",
       "      <th>attributes</th>\n",
       "      <th>isOriginalTitle</th>\n",
       "    </tr>\n",
       "  </thead>\n",
       "  <tbody>\n",
       "    <tr>\n",
       "      <th>0</th>\n",
       "      <td>tt0000001</td>\n",
       "      <td>6</td>\n",
       "      <td>Carmencita</td>\n",
       "      <td>US</td>\n",
       "      <td>NaN</td>\n",
       "      <td>imdbDisplay</td>\n",
       "      <td>NaN</td>\n",
       "      <td>0.0</td>\n",
       "    </tr>\n",
       "    <tr>\n",
       "      <th>1</th>\n",
       "      <td>tt0000002</td>\n",
       "      <td>7</td>\n",
       "      <td>The Clown and His Dogs</td>\n",
       "      <td>US</td>\n",
       "      <td>NaN</td>\n",
       "      <td>NaN</td>\n",
       "      <td>literal English title</td>\n",
       "      <td>0.0</td>\n",
       "    </tr>\n",
       "    <tr>\n",
       "      <th>2</th>\n",
       "      <td>tt0000005</td>\n",
       "      <td>10</td>\n",
       "      <td>Blacksmith Scene</td>\n",
       "      <td>US</td>\n",
       "      <td>NaN</td>\n",
       "      <td>imdbDisplay</td>\n",
       "      <td>NaN</td>\n",
       "      <td>0.0</td>\n",
       "    </tr>\n",
       "    <tr>\n",
       "      <th>3</th>\n",
       "      <td>tt0000005</td>\n",
       "      <td>1</td>\n",
       "      <td>Blacksmithing Scene</td>\n",
       "      <td>US</td>\n",
       "      <td>NaN</td>\n",
       "      <td>alternative</td>\n",
       "      <td>NaN</td>\n",
       "      <td>0.0</td>\n",
       "    </tr>\n",
       "    <tr>\n",
       "      <th>4</th>\n",
       "      <td>tt0000005</td>\n",
       "      <td>6</td>\n",
       "      <td>Blacksmith Scene #1</td>\n",
       "      <td>US</td>\n",
       "      <td>NaN</td>\n",
       "      <td>alternative</td>\n",
       "      <td>NaN</td>\n",
       "      <td>0.0</td>\n",
       "    </tr>\n",
       "  </tbody>\n",
       "</table>\n",
       "</div>"
      ],
      "text/plain": [
       "     titleId  ordering                   title region language        types  \\\n",
       "0  tt0000001         6              Carmencita     US      NaN  imdbDisplay   \n",
       "1  tt0000002         7  The Clown and His Dogs     US      NaN          NaN   \n",
       "2  tt0000005        10        Blacksmith Scene     US      NaN  imdbDisplay   \n",
       "3  tt0000005         1     Blacksmithing Scene     US      NaN  alternative   \n",
       "4  tt0000005         6     Blacksmith Scene #1     US      NaN  alternative   \n",
       "\n",
       "              attributes  isOriginalTitle  \n",
       "0                    NaN              0.0  \n",
       "1  literal English title              0.0  \n",
       "2                    NaN              0.0  \n",
       "3                    NaN              0.0  \n",
       "4                    NaN              0.0  "
      ]
     },
     "execution_count": 56,
     "metadata": {},
     "output_type": "execute_result"
    }
   ],
   "source": [
    "aka = pd.read_csv(\"Data/title_akas.csv.gz\", low_memory = False)\n",
    "aka.head()"
   ]
  },
  {
   "cell_type": "code",
   "execution_count": 57,
   "id": "62a996c3",
   "metadata": {},
   "outputs": [],
   "source": [
    "rat.to_csv(\"Data/title_ratings.csv.gz\",compression='gzip',index=False)"
   ]
  },
  {
   "cell_type": "code",
   "execution_count": 58,
   "id": "5dd84429",
   "metadata": {},
   "outputs": [
    {
     "data": {
      "text/html": [
       "<div>\n",
       "<style scoped>\n",
       "    .dataframe tbody tr th:only-of-type {\n",
       "        vertical-align: middle;\n",
       "    }\n",
       "\n",
       "    .dataframe tbody tr th {\n",
       "        vertical-align: top;\n",
       "    }\n",
       "\n",
       "    .dataframe thead th {\n",
       "        text-align: right;\n",
       "    }\n",
       "</style>\n",
       "<table border=\"1\" class=\"dataframe\">\n",
       "  <thead>\n",
       "    <tr style=\"text-align: right;\">\n",
       "      <th></th>\n",
       "      <th>tconst</th>\n",
       "      <th>averageRating</th>\n",
       "      <th>numVotes</th>\n",
       "    </tr>\n",
       "  </thead>\n",
       "  <tbody>\n",
       "    <tr>\n",
       "      <th>0</th>\n",
       "      <td>tt0000001</td>\n",
       "      <td>5.7</td>\n",
       "      <td>1910</td>\n",
       "    </tr>\n",
       "    <tr>\n",
       "      <th>1</th>\n",
       "      <td>tt0000002</td>\n",
       "      <td>5.8</td>\n",
       "      <td>257</td>\n",
       "    </tr>\n",
       "    <tr>\n",
       "      <th>2</th>\n",
       "      <td>tt0000005</td>\n",
       "      <td>6.2</td>\n",
       "      <td>2530</td>\n",
       "    </tr>\n",
       "    <tr>\n",
       "      <th>3</th>\n",
       "      <td>tt0000006</td>\n",
       "      <td>5.1</td>\n",
       "      <td>173</td>\n",
       "    </tr>\n",
       "    <tr>\n",
       "      <th>4</th>\n",
       "      <td>tt0000007</td>\n",
       "      <td>5.4</td>\n",
       "      <td>789</td>\n",
       "    </tr>\n",
       "  </tbody>\n",
       "</table>\n",
       "</div>"
      ],
      "text/plain": [
       "      tconst  averageRating  numVotes\n",
       "0  tt0000001            5.7      1910\n",
       "1  tt0000002            5.8       257\n",
       "2  tt0000005            6.2      2530\n",
       "3  tt0000006            5.1       173\n",
       "4  tt0000007            5.4       789"
      ]
     },
     "execution_count": 58,
     "metadata": {},
     "output_type": "execute_result"
    }
   ],
   "source": [
    "rat = pd.read_csv(\"Data/title_ratings.csv.gz\", low_memory = False)\n",
    "rat.head()"
   ]
  },
  {
   "cell_type": "code",
   "execution_count": null,
   "id": "e7f881f5",
   "metadata": {},
   "outputs": [],
   "source": []
  },
  {
   "cell_type": "code",
   "execution_count": null,
   "id": "b4ad4d7b",
   "metadata": {},
   "outputs": [],
   "source": []
  },
  {
   "cell_type": "code",
   "execution_count": null,
   "id": "68de8405",
   "metadata": {},
   "outputs": [],
   "source": []
  },
  {
   "cell_type": "code",
   "execution_count": null,
   "id": "10796a9f",
   "metadata": {},
   "outputs": [],
   "source": []
  },
  {
   "cell_type": "code",
   "execution_count": null,
   "id": "02acce2c",
   "metadata": {},
   "outputs": [],
   "source": []
  },
  {
   "cell_type": "code",
   "execution_count": null,
   "id": "cb119ea0",
   "metadata": {},
   "outputs": [],
   "source": []
  }
 ],
 "metadata": {
  "kernelspec": {
   "display_name": "Python (dojo-env)",
   "language": "python",
   "name": "dojo-env"
  },
  "language_info": {
   "codemirror_mode": {
    "name": "ipython",
    "version": 3
   },
   "file_extension": ".py",
   "mimetype": "text/x-python",
   "name": "python",
   "nbconvert_exporter": "python",
   "pygments_lexer": "ipython3",
   "version": "3.8.13"
  },
  "toc": {
   "base_numbering": 1,
   "nav_menu": {},
   "number_sections": false,
   "sideBar": true,
   "skip_h1_title": false,
   "title_cell": "Table of Contents",
   "title_sidebar": "Contents",
   "toc_cell": false,
   "toc_position": {},
   "toc_section_display": true,
   "toc_window_display": false
  }
 },
 "nbformat": 4,
 "nbformat_minor": 5
}
